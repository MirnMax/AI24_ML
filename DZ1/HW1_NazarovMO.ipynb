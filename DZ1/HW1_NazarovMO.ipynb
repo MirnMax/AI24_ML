{
 "cells": [
  {
   "cell_type": "markdown",
   "metadata": {
    "colab_type": "text",
    "id": "view-in-github"
   },
   "source": [
    "<a href=\"https://colab.research.google.com/github/Murcha1990/ML_AI24/blob/main/Hometasks/Base/AI_HW1_Regression_with_inference_base.ipynb\" target=\"_parent\"><img src=\"https://colab.research.google.com/assets/colab-badge.svg\" alt=\"Open In Colab\"/></a>"
   ]
  },
  {
   "cell_type": "markdown",
   "metadata": {
    "id": "IsPer4g5FgRB"
   },
   "source": [
    "# **Домашнее задание №1 (base)**\n",
    "\n",
    "В этом домашнем задании вам будет необходимо:\n",
    "*  обучить модель регрессии для предсказания стоимости автомобилей;\n",
    "* реализовать веб-сервис для применения построенной модели на новых данных\n",
    "\n",
    "**Максимальная оценка за дз**\n",
    "> Оценка за домашку = $min(\\text{ваш балл}, 11)$\n",
    "\n",
    "**Мягкий дедлайн: 27 ноября 23:59**\n",
    "\n",
    "**Жесткий дедлайн: 20 декабря 23:59 (конец модуля)**\n"
   ]
  },
  {
   "cell_type": "markdown",
   "metadata": {
    "id": "RBxaROjhnExd"
   },
   "source": [
    "**Примечание**\n",
    "\n",
    "В каждой части оцениваются как код, **так и ответы на вопросы.** Вопросы подсвечены синим цветом.\n",
    "\n",
    "Если нет одного и/или другого, то часть баллов за соответствующее задание снимается."
   ]
  },
  {
   "cell_type": "code",
   "execution_count": 1,
   "metadata": {
    "id": "bKXD33FOsnGd"
   },
   "outputs": [],
   "source": [
    "import pandas as pd\n",
    "import numpy as np\n",
    "import matplotlib.pyplot as plt\n",
    "import random\n",
    "import seaborn as sns\n",
    "import sklearn\n",
    "\n",
    "random.seed(42)\n",
    "np.random.seed(42)"
   ]
  },
  {
   "cell_type": "code",
   "execution_count": 2,
   "metadata": {},
   "outputs": [],
   "source": [
    "import re"
   ]
  },
  {
   "cell_type": "markdown",
   "metadata": {
    "id": "GAzbEw1ctU4f"
   },
   "source": [
    "**Задание 0 (0 баллов).**\n",
    "Для чего фиксируем сиды в домашках?"
   ]
  },
  {
   "cell_type": "markdown",
   "metadata": {
    "id": "gNtt7mM9eAY4"
   },
   "source": [
    "Чтобы случайный результат был воспроизводимым."
   ]
  },
  {
   "cell_type": "markdown",
   "metadata": {
    "id": "ykzSVgN7q-xZ"
   },
   "source": [
    "# **Часть 1 | EDA и визуализация**\n",
    "\n",
    "Первая часть состоит из классических шагов EDA:\n",
    "\n",
    "- Базовый EDA и обработка признаков (2.5 балла)\n",
    "- Визуализации признаков и их анализ (1 балл)\n",
    "\n",
    "Всего можно набрать 3.5 основных балла и 0.65 бонусных. Бонусные задания выделены как **Дополнительное задание/Бонус**. Вы можете выполнять их, чтобы в случае ошибок в основных задачах всё равно набрать за работу максимум. Кроме того, дополнительные задания позволяют вам углубить знания.\n",
    "\n",
    "Призываем активно использовать их!"
   ]
  },
  {
   "cell_type": "markdown",
   "metadata": {
    "id": "e-4bM9CKAtCj"
   },
   "source": [
    "## **Простейший EDA и обработка признаков (2.5 балла)**"
   ]
  },
  {
   "cell_type": "code",
   "execution_count": 3,
   "metadata": {
    "colab": {
     "base_uri": "https://localhost:8080/"
    },
    "id": "FniH6eCGFSi_",
    "outputId": "4fd8379a-e20e-4e8a-c737-14bc17dedad0"
   },
   "outputs": [
    {
     "name": "stdout",
     "output_type": "stream",
     "text": [
      "Train data shape: (6999, 13)\n",
      "Test data shape:  (1000, 13)\n"
     ]
    }
   ],
   "source": [
    "df_train = pd.read_csv('https://raw.githubusercontent.com/Murcha1990/MLDS_ML_2022/main/Hometasks/HT1/cars_train.csv')\n",
    "df_test = pd.read_csv('https://raw.githubusercontent.com/Murcha1990/MLDS_ML_2022/main/Hometasks/HT1/cars_test.csv')\n",
    "\n",
    "print(\"Train data shape:\", df_train.shape)\n",
    "print(\"Test data shape: \", df_test.shape)"
   ]
  },
  {
   "cell_type": "markdown",
   "metadata": {
    "id": "CPe2gY1agYfp"
   },
   "source": [
    "### **Задание 1 (0.55 балла)**\n",
    "\n",
    "Выполните операции, направленные на практику основных действий с `pandas`:\n",
    "- [ ] Отобразите 10 случайных строк тренировочного датасета (0.15 балла)\n",
    "- [ ] Отобразите первые 5 и последние 5 объектов тестового датасета (0.1 балла)\n",
    "- [ ] Посмотрите, есть ли в датасете пропуски. Запишите/выведите названия колонок, для которых есть пропущенные значения (0.1 балла)\n",
    "- [ ] Посмотрите, есть ли в данных явные дубликаты (0.05 балла)\n",
    "\n",
    "\n",
    "**Бонус**\n",
    "- [ ] Постройте дашборд, используя [ydata-profilling](https://github.com/ydataai/ydata-profiling)(0.15 балла)"
   ]
  },
  {
   "cell_type": "code",
   "execution_count": 4,
   "metadata": {},
   "outputs": [
    {
     "name": "stdout",
     "output_type": "stream",
     "text": [
      "<class 'pandas.core.frame.DataFrame'>\n",
      "RangeIndex: 6999 entries, 0 to 6998\n",
      "Data columns (total 13 columns):\n",
      " #   Column         Non-Null Count  Dtype  \n",
      "---  ------         --------------  -----  \n",
      " 0   name           6999 non-null   object \n",
      " 1   year           6999 non-null   int64  \n",
      " 2   selling_price  6999 non-null   int64  \n",
      " 3   km_driven      6999 non-null   int64  \n",
      " 4   fuel           6999 non-null   object \n",
      " 5   seller_type    6999 non-null   object \n",
      " 6   transmission   6999 non-null   object \n",
      " 7   owner          6999 non-null   object \n",
      " 8   mileage        6797 non-null   object \n",
      " 9   engine         6797 non-null   object \n",
      " 10  max_power      6803 non-null   object \n",
      " 11  torque         6796 non-null   object \n",
      " 12  seats          6797 non-null   float64\n",
      "dtypes: float64(1), int64(3), object(9)\n",
      "memory usage: 711.0+ KB\n"
     ]
    }
   ],
   "source": [
    "df_train.info()"
   ]
  },
  {
   "cell_type": "code",
   "execution_count": 5,
   "metadata": {
    "id": "_Saw94eMhP5E"
   },
   "outputs": [
    {
     "data": {
      "text/html": [
       "<div>\n",
       "<style scoped>\n",
       "    .dataframe tbody tr th:only-of-type {\n",
       "        vertical-align: middle;\n",
       "    }\n",
       "\n",
       "    .dataframe tbody tr th {\n",
       "        vertical-align: top;\n",
       "    }\n",
       "\n",
       "    .dataframe thead th {\n",
       "        text-align: right;\n",
       "    }\n",
       "</style>\n",
       "<table border=\"1\" class=\"dataframe\">\n",
       "  <thead>\n",
       "    <tr style=\"text-align: right;\">\n",
       "      <th></th>\n",
       "      <th>name</th>\n",
       "      <th>year</th>\n",
       "      <th>selling_price</th>\n",
       "      <th>km_driven</th>\n",
       "      <th>fuel</th>\n",
       "      <th>seller_type</th>\n",
       "      <th>transmission</th>\n",
       "      <th>owner</th>\n",
       "      <th>mileage</th>\n",
       "      <th>engine</th>\n",
       "      <th>max_power</th>\n",
       "      <th>torque</th>\n",
       "      <th>seats</th>\n",
       "    </tr>\n",
       "  </thead>\n",
       "  <tbody>\n",
       "    <tr>\n",
       "      <th>6565</th>\n",
       "      <td>Renault KWID Climber 1.0 MT BSIV</td>\n",
       "      <td>2019</td>\n",
       "      <td>300000</td>\n",
       "      <td>35000</td>\n",
       "      <td>Petrol</td>\n",
       "      <td>Individual</td>\n",
       "      <td>Manual</td>\n",
       "      <td>First Owner</td>\n",
       "      <td>23.01 kmpl</td>\n",
       "      <td>999 CC</td>\n",
       "      <td>67 bhp</td>\n",
       "      <td>91Nm@ 4250rpm</td>\n",
       "      <td>5.0</td>\n",
       "    </tr>\n",
       "    <tr>\n",
       "      <th>2943</th>\n",
       "      <td>Maruti Wagon R LXI</td>\n",
       "      <td>2013</td>\n",
       "      <td>225000</td>\n",
       "      <td>58343</td>\n",
       "      <td>Petrol</td>\n",
       "      <td>Trustmark Dealer</td>\n",
       "      <td>Manual</td>\n",
       "      <td>First Owner</td>\n",
       "      <td>21.79 kmpl</td>\n",
       "      <td>998 CC</td>\n",
       "      <td>67.05 bhp</td>\n",
       "      <td>90Nm@ 3500rpm</td>\n",
       "      <td>5.0</td>\n",
       "    </tr>\n",
       "    <tr>\n",
       "      <th>2024</th>\n",
       "      <td>Hyundai i20 Asta 1.2</td>\n",
       "      <td>2013</td>\n",
       "      <td>360000</td>\n",
       "      <td>30000</td>\n",
       "      <td>Petrol</td>\n",
       "      <td>Individual</td>\n",
       "      <td>Manual</td>\n",
       "      <td>First Owner</td>\n",
       "      <td>18.5 kmpl</td>\n",
       "      <td>1197 CC</td>\n",
       "      <td>82.85 bhp</td>\n",
       "      <td>113.7Nm@ 4000rpm</td>\n",
       "      <td>5.0</td>\n",
       "    </tr>\n",
       "    <tr>\n",
       "      <th>263</th>\n",
       "      <td>Hyundai i20 1.2 Asta</td>\n",
       "      <td>2010</td>\n",
       "      <td>300000</td>\n",
       "      <td>70000</td>\n",
       "      <td>Petrol</td>\n",
       "      <td>Individual</td>\n",
       "      <td>Manual</td>\n",
       "      <td>First Owner</td>\n",
       "      <td>17.0 kmpl</td>\n",
       "      <td>1197 CC</td>\n",
       "      <td>80 bhp</td>\n",
       "      <td>11.4 kgm at 4,000 rpm</td>\n",
       "      <td>5.0</td>\n",
       "    </tr>\n",
       "    <tr>\n",
       "      <th>4586</th>\n",
       "      <td>Skoda Octavia L and K 1.9 TDI MT</td>\n",
       "      <td>2005</td>\n",
       "      <td>250000</td>\n",
       "      <td>120000</td>\n",
       "      <td>Diesel</td>\n",
       "      <td>Individual</td>\n",
       "      <td>Manual</td>\n",
       "      <td>Third Owner</td>\n",
       "      <td>16.4 kmpl</td>\n",
       "      <td>1896 CC</td>\n",
       "      <td>90 bhp</td>\n",
       "      <td>21.4@ 1,900(kgm@ rpm)</td>\n",
       "      <td>5.0</td>\n",
       "    </tr>\n",
       "    <tr>\n",
       "      <th>4479</th>\n",
       "      <td>Maruti Ciaz ZXi</td>\n",
       "      <td>2016</td>\n",
       "      <td>700000</td>\n",
       "      <td>20000</td>\n",
       "      <td>Petrol</td>\n",
       "      <td>Individual</td>\n",
       "      <td>Manual</td>\n",
       "      <td>First Owner</td>\n",
       "      <td>20.73 kmpl</td>\n",
       "      <td>1373 CC</td>\n",
       "      <td>91.1 bhp</td>\n",
       "      <td>130Nm@ 4000rpm</td>\n",
       "      <td>5.0</td>\n",
       "    </tr>\n",
       "    <tr>\n",
       "      <th>4881</th>\n",
       "      <td>Hyundai Grand i10 1.2 Kappa Magna BSIV</td>\n",
       "      <td>2017</td>\n",
       "      <td>445000</td>\n",
       "      <td>27000</td>\n",
       "      <td>Petrol</td>\n",
       "      <td>Individual</td>\n",
       "      <td>Manual</td>\n",
       "      <td>First Owner</td>\n",
       "      <td>18.9 kmpl</td>\n",
       "      <td>1197 CC</td>\n",
       "      <td>81.86 bhp</td>\n",
       "      <td>113.75nm@ 4000rpm</td>\n",
       "      <td>5.0</td>\n",
       "    </tr>\n",
       "    <tr>\n",
       "      <th>3583</th>\n",
       "      <td>Ford Ecosport 1.5 DV5 MT Trend</td>\n",
       "      <td>2016</td>\n",
       "      <td>515000</td>\n",
       "      <td>68609</td>\n",
       "      <td>Diesel</td>\n",
       "      <td>Dealer</td>\n",
       "      <td>Manual</td>\n",
       "      <td>First Owner</td>\n",
       "      <td>22.7 kmpl</td>\n",
       "      <td>1498 CC</td>\n",
       "      <td>89.84 bhp</td>\n",
       "      <td>204Nm@ 2000-2750rpm</td>\n",
       "      <td>5.0</td>\n",
       "    </tr>\n",
       "    <tr>\n",
       "      <th>6361</th>\n",
       "      <td>Hyundai Verna 1.4 VTVT</td>\n",
       "      <td>2014</td>\n",
       "      <td>500000</td>\n",
       "      <td>33400</td>\n",
       "      <td>Petrol</td>\n",
       "      <td>Individual</td>\n",
       "      <td>Manual</td>\n",
       "      <td>First Owner</td>\n",
       "      <td>17.43 kmpl</td>\n",
       "      <td>1396 CC</td>\n",
       "      <td>105.5 bhp</td>\n",
       "      <td>135.3Nm@ 5000rpm</td>\n",
       "      <td>5.0</td>\n",
       "    </tr>\n",
       "    <tr>\n",
       "      <th>4108</th>\n",
       "      <td>Hyundai i20 Era 1.2</td>\n",
       "      <td>2015</td>\n",
       "      <td>490000</td>\n",
       "      <td>45900</td>\n",
       "      <td>Petrol</td>\n",
       "      <td>Individual</td>\n",
       "      <td>Manual</td>\n",
       "      <td>Second Owner</td>\n",
       "      <td>18.6 kmpl</td>\n",
       "      <td>1197 CC</td>\n",
       "      <td>81.83 bhp</td>\n",
       "      <td>114.7Nm@ 4000rpm</td>\n",
       "      <td>5.0</td>\n",
       "    </tr>\n",
       "  </tbody>\n",
       "</table>\n",
       "</div>"
      ],
      "text/plain": [
       "                                        name  year  selling_price  km_driven  \\\n",
       "6565        Renault KWID Climber 1.0 MT BSIV  2019         300000      35000   \n",
       "2943                      Maruti Wagon R LXI  2013         225000      58343   \n",
       "2024                    Hyundai i20 Asta 1.2  2013         360000      30000   \n",
       "263                     Hyundai i20 1.2 Asta  2010         300000      70000   \n",
       "4586        Skoda Octavia L and K 1.9 TDI MT  2005         250000     120000   \n",
       "4479                         Maruti Ciaz ZXi  2016         700000      20000   \n",
       "4881  Hyundai Grand i10 1.2 Kappa Magna BSIV  2017         445000      27000   \n",
       "3583          Ford Ecosport 1.5 DV5 MT Trend  2016         515000      68609   \n",
       "6361                  Hyundai Verna 1.4 VTVT  2014         500000      33400   \n",
       "4108                     Hyundai i20 Era 1.2  2015         490000      45900   \n",
       "\n",
       "        fuel       seller_type transmission         owner     mileage  \\\n",
       "6565  Petrol        Individual       Manual   First Owner  23.01 kmpl   \n",
       "2943  Petrol  Trustmark Dealer       Manual   First Owner  21.79 kmpl   \n",
       "2024  Petrol        Individual       Manual   First Owner   18.5 kmpl   \n",
       "263   Petrol        Individual       Manual   First Owner   17.0 kmpl   \n",
       "4586  Diesel        Individual       Manual   Third Owner   16.4 kmpl   \n",
       "4479  Petrol        Individual       Manual   First Owner  20.73 kmpl   \n",
       "4881  Petrol        Individual       Manual   First Owner   18.9 kmpl   \n",
       "3583  Diesel            Dealer       Manual   First Owner   22.7 kmpl   \n",
       "6361  Petrol        Individual       Manual   First Owner  17.43 kmpl   \n",
       "4108  Petrol        Individual       Manual  Second Owner   18.6 kmpl   \n",
       "\n",
       "       engine  max_power                 torque  seats  \n",
       "6565   999 CC     67 bhp          91Nm@ 4250rpm    5.0  \n",
       "2943   998 CC  67.05 bhp          90Nm@ 3500rpm    5.0  \n",
       "2024  1197 CC  82.85 bhp       113.7Nm@ 4000rpm    5.0  \n",
       "263   1197 CC     80 bhp  11.4 kgm at 4,000 rpm    5.0  \n",
       "4586  1896 CC     90 bhp  21.4@ 1,900(kgm@ rpm)    5.0  \n",
       "4479  1373 CC   91.1 bhp         130Nm@ 4000rpm    5.0  \n",
       "4881  1197 CC  81.86 bhp      113.75nm@ 4000rpm    5.0  \n",
       "3583  1498 CC  89.84 bhp    204Nm@ 2000-2750rpm    5.0  \n",
       "6361  1396 CC  105.5 bhp       135.3Nm@ 5000rpm    5.0  \n",
       "4108  1197 CC  81.83 bhp       114.7Nm@ 4000rpm    5.0  "
      ]
     },
     "metadata": {},
     "output_type": "display_data"
    },
    {
     "data": {
      "text/html": [
       "<div>\n",
       "<style scoped>\n",
       "    .dataframe tbody tr th:only-of-type {\n",
       "        vertical-align: middle;\n",
       "    }\n",
       "\n",
       "    .dataframe tbody tr th {\n",
       "        vertical-align: top;\n",
       "    }\n",
       "\n",
       "    .dataframe thead th {\n",
       "        text-align: right;\n",
       "    }\n",
       "</style>\n",
       "<table border=\"1\" class=\"dataframe\">\n",
       "  <thead>\n",
       "    <tr style=\"text-align: right;\">\n",
       "      <th></th>\n",
       "      <th>name</th>\n",
       "      <th>year</th>\n",
       "      <th>selling_price</th>\n",
       "      <th>km_driven</th>\n",
       "      <th>fuel</th>\n",
       "      <th>seller_type</th>\n",
       "      <th>transmission</th>\n",
       "      <th>owner</th>\n",
       "      <th>mileage</th>\n",
       "      <th>engine</th>\n",
       "      <th>max_power</th>\n",
       "      <th>torque</th>\n",
       "      <th>seats</th>\n",
       "    </tr>\n",
       "  </thead>\n",
       "  <tbody>\n",
       "    <tr>\n",
       "      <th>0</th>\n",
       "      <td>Mahindra Xylo E4 BS IV</td>\n",
       "      <td>2010</td>\n",
       "      <td>229999</td>\n",
       "      <td>168000</td>\n",
       "      <td>Diesel</td>\n",
       "      <td>Individual</td>\n",
       "      <td>Manual</td>\n",
       "      <td>First Owner</td>\n",
       "      <td>14.0 kmpl</td>\n",
       "      <td>2498 CC</td>\n",
       "      <td>112 bhp</td>\n",
       "      <td>260 Nm at 1800-2200 rpm</td>\n",
       "      <td>7.0</td>\n",
       "    </tr>\n",
       "    <tr>\n",
       "      <th>1</th>\n",
       "      <td>Tata Nexon 1.5 Revotorq XE</td>\n",
       "      <td>2017</td>\n",
       "      <td>665000</td>\n",
       "      <td>25000</td>\n",
       "      <td>Diesel</td>\n",
       "      <td>Individual</td>\n",
       "      <td>Manual</td>\n",
       "      <td>First Owner</td>\n",
       "      <td>21.5 kmpl</td>\n",
       "      <td>1497 CC</td>\n",
       "      <td>108.5 bhp</td>\n",
       "      <td>260Nm@ 1500-2750rpm</td>\n",
       "      <td>5.0</td>\n",
       "    </tr>\n",
       "    <tr>\n",
       "      <th>2</th>\n",
       "      <td>Honda Civic 1.8 S AT</td>\n",
       "      <td>2007</td>\n",
       "      <td>175000</td>\n",
       "      <td>218463</td>\n",
       "      <td>Petrol</td>\n",
       "      <td>Individual</td>\n",
       "      <td>Automatic</td>\n",
       "      <td>First Owner</td>\n",
       "      <td>12.9 kmpl</td>\n",
       "      <td>1799 CC</td>\n",
       "      <td>130 bhp</td>\n",
       "      <td>172Nm@ 4300rpm</td>\n",
       "      <td>5.0</td>\n",
       "    </tr>\n",
       "    <tr>\n",
       "      <th>3</th>\n",
       "      <td>Honda City i DTEC VX</td>\n",
       "      <td>2015</td>\n",
       "      <td>635000</td>\n",
       "      <td>173000</td>\n",
       "      <td>Diesel</td>\n",
       "      <td>Individual</td>\n",
       "      <td>Manual</td>\n",
       "      <td>First Owner</td>\n",
       "      <td>25.1 kmpl</td>\n",
       "      <td>1498 CC</td>\n",
       "      <td>98.6 bhp</td>\n",
       "      <td>200Nm@ 1750rpm</td>\n",
       "      <td>5.0</td>\n",
       "    </tr>\n",
       "    <tr>\n",
       "      <th>4</th>\n",
       "      <td>Tata Indica Vista Aura 1.2 Safire BSIV</td>\n",
       "      <td>2011</td>\n",
       "      <td>130000</td>\n",
       "      <td>70000</td>\n",
       "      <td>Petrol</td>\n",
       "      <td>Individual</td>\n",
       "      <td>Manual</td>\n",
       "      <td>Second Owner</td>\n",
       "      <td>16.5 kmpl</td>\n",
       "      <td>1172 CC</td>\n",
       "      <td>65 bhp</td>\n",
       "      <td>96  Nm at 3000  rpm</td>\n",
       "      <td>5.0</td>\n",
       "    </tr>\n",
       "  </tbody>\n",
       "</table>\n",
       "</div>"
      ],
      "text/plain": [
       "                                     name  year  selling_price  km_driven  \\\n",
       "0                  Mahindra Xylo E4 BS IV  2010         229999     168000   \n",
       "1              Tata Nexon 1.5 Revotorq XE  2017         665000      25000   \n",
       "2                    Honda Civic 1.8 S AT  2007         175000     218463   \n",
       "3                    Honda City i DTEC VX  2015         635000     173000   \n",
       "4  Tata Indica Vista Aura 1.2 Safire BSIV  2011         130000      70000   \n",
       "\n",
       "     fuel seller_type transmission         owner    mileage   engine  \\\n",
       "0  Diesel  Individual       Manual   First Owner  14.0 kmpl  2498 CC   \n",
       "1  Diesel  Individual       Manual   First Owner  21.5 kmpl  1497 CC   \n",
       "2  Petrol  Individual    Automatic   First Owner  12.9 kmpl  1799 CC   \n",
       "3  Diesel  Individual       Manual   First Owner  25.1 kmpl  1498 CC   \n",
       "4  Petrol  Individual       Manual  Second Owner  16.5 kmpl  1172 CC   \n",
       "\n",
       "   max_power                   torque  seats  \n",
       "0    112 bhp  260 Nm at 1800-2200 rpm    7.0  \n",
       "1  108.5 bhp      260Nm@ 1500-2750rpm    5.0  \n",
       "2    130 bhp           172Nm@ 4300rpm    5.0  \n",
       "3   98.6 bhp           200Nm@ 1750rpm    5.0  \n",
       "4     65 bhp     96  Nm at 3000  rpm     5.0  "
      ]
     },
     "metadata": {},
     "output_type": "display_data"
    },
    {
     "data": {
      "text/html": [
       "<div>\n",
       "<style scoped>\n",
       "    .dataframe tbody tr th:only-of-type {\n",
       "        vertical-align: middle;\n",
       "    }\n",
       "\n",
       "    .dataframe tbody tr th {\n",
       "        vertical-align: top;\n",
       "    }\n",
       "\n",
       "    .dataframe thead th {\n",
       "        text-align: right;\n",
       "    }\n",
       "</style>\n",
       "<table border=\"1\" class=\"dataframe\">\n",
       "  <thead>\n",
       "    <tr style=\"text-align: right;\">\n",
       "      <th></th>\n",
       "      <th>name</th>\n",
       "      <th>year</th>\n",
       "      <th>selling_price</th>\n",
       "      <th>km_driven</th>\n",
       "      <th>fuel</th>\n",
       "      <th>seller_type</th>\n",
       "      <th>transmission</th>\n",
       "      <th>owner</th>\n",
       "      <th>mileage</th>\n",
       "      <th>engine</th>\n",
       "      <th>max_power</th>\n",
       "      <th>torque</th>\n",
       "      <th>seats</th>\n",
       "    </tr>\n",
       "  </thead>\n",
       "  <tbody>\n",
       "    <tr>\n",
       "      <th>995</th>\n",
       "      <td>Hyundai i10 Magna 1.1L</td>\n",
       "      <td>2008</td>\n",
       "      <td>250000</td>\n",
       "      <td>100000</td>\n",
       "      <td>Petrol</td>\n",
       "      <td>Individual</td>\n",
       "      <td>Manual</td>\n",
       "      <td>Second Owner</td>\n",
       "      <td>19.81 kmpl</td>\n",
       "      <td>1086 CC</td>\n",
       "      <td>68.05 bhp</td>\n",
       "      <td>99.04Nm@ 4500rpm</td>\n",
       "      <td>5.0</td>\n",
       "    </tr>\n",
       "    <tr>\n",
       "      <th>996</th>\n",
       "      <td>Hyundai i20 2015-2017 Sportz 1.2</td>\n",
       "      <td>2017</td>\n",
       "      <td>440000</td>\n",
       "      <td>50000</td>\n",
       "      <td>Petrol</td>\n",
       "      <td>Individual</td>\n",
       "      <td>Manual</td>\n",
       "      <td>Second Owner</td>\n",
       "      <td>18.6 kmpl</td>\n",
       "      <td>1197 CC</td>\n",
       "      <td>81.83 bhp</td>\n",
       "      <td>114.7Nm@ 4000rpm</td>\n",
       "      <td>5.0</td>\n",
       "    </tr>\n",
       "    <tr>\n",
       "      <th>997</th>\n",
       "      <td>Hyundai i20 Era Diesel</td>\n",
       "      <td>2009</td>\n",
       "      <td>340000</td>\n",
       "      <td>40000</td>\n",
       "      <td>Diesel</td>\n",
       "      <td>Individual</td>\n",
       "      <td>Manual</td>\n",
       "      <td>First Owner</td>\n",
       "      <td>23.0 kmpl</td>\n",
       "      <td>1396 CC</td>\n",
       "      <td>90 bhp</td>\n",
       "      <td>22.4 kgm at 1750-2750rpm</td>\n",
       "      <td>5.0</td>\n",
       "    </tr>\n",
       "    <tr>\n",
       "      <th>998</th>\n",
       "      <td>Hyundai i10 Asta</td>\n",
       "      <td>2012</td>\n",
       "      <td>350000</td>\n",
       "      <td>25000</td>\n",
       "      <td>Petrol</td>\n",
       "      <td>Individual</td>\n",
       "      <td>Manual</td>\n",
       "      <td>First Owner</td>\n",
       "      <td>20.36 kmpl</td>\n",
       "      <td>1197 CC</td>\n",
       "      <td>78.9 bhp</td>\n",
       "      <td>111.8Nm@ 4000rpm</td>\n",
       "      <td>5.0</td>\n",
       "    </tr>\n",
       "    <tr>\n",
       "      <th>999</th>\n",
       "      <td>Honda City i DTec SV</td>\n",
       "      <td>2016</td>\n",
       "      <td>700000</td>\n",
       "      <td>110000</td>\n",
       "      <td>Diesel</td>\n",
       "      <td>Individual</td>\n",
       "      <td>Manual</td>\n",
       "      <td>First Owner</td>\n",
       "      <td>26.0 kmpl</td>\n",
       "      <td>1498 CC</td>\n",
       "      <td>98.6 bhp</td>\n",
       "      <td>200Nm@ 1750rpm</td>\n",
       "      <td>5.0</td>\n",
       "    </tr>\n",
       "  </tbody>\n",
       "</table>\n",
       "</div>"
      ],
      "text/plain": [
       "                                 name  year  selling_price  km_driven    fuel  \\\n",
       "995            Hyundai i10 Magna 1.1L  2008         250000     100000  Petrol   \n",
       "996  Hyundai i20 2015-2017 Sportz 1.2  2017         440000      50000  Petrol   \n",
       "997            Hyundai i20 Era Diesel  2009         340000      40000  Diesel   \n",
       "998                  Hyundai i10 Asta  2012         350000      25000  Petrol   \n",
       "999              Honda City i DTec SV  2016         700000     110000  Diesel   \n",
       "\n",
       "    seller_type transmission         owner     mileage   engine  max_power  \\\n",
       "995  Individual       Manual  Second Owner  19.81 kmpl  1086 CC  68.05 bhp   \n",
       "996  Individual       Manual  Second Owner   18.6 kmpl  1197 CC  81.83 bhp   \n",
       "997  Individual       Manual   First Owner   23.0 kmpl  1396 CC     90 bhp   \n",
       "998  Individual       Manual   First Owner  20.36 kmpl  1197 CC   78.9 bhp   \n",
       "999  Individual       Manual   First Owner   26.0 kmpl  1498 CC   98.6 bhp   \n",
       "\n",
       "                       torque  seats  \n",
       "995          99.04Nm@ 4500rpm    5.0  \n",
       "996          114.7Nm@ 4000rpm    5.0  \n",
       "997  22.4 kgm at 1750-2750rpm    5.0  \n",
       "998          111.8Nm@ 4000rpm    5.0  \n",
       "999            200Nm@ 1750rpm    5.0  "
      ]
     },
     "metadata": {},
     "output_type": "display_data"
    },
    {
     "name": "stdout",
     "output_type": "stream",
     "text": [
      "name              0\n",
      "year              0\n",
      "selling_price     0\n",
      "km_driven         0\n",
      "fuel              0\n",
      "seller_type       0\n",
      "transmission      0\n",
      "owner             0\n",
      "mileage          19\n",
      "engine           19\n",
      "max_power        19\n",
      "torque           19\n",
      "seats            19\n",
      "dtype: int64\n",
      "name               0\n",
      "year               0\n",
      "selling_price      0\n",
      "km_driven          0\n",
      "fuel               0\n",
      "seller_type        0\n",
      "transmission       0\n",
      "owner              0\n",
      "mileage          202\n",
      "engine           202\n",
      "max_power        196\n",
      "torque           203\n",
      "seats            202\n",
      "dtype: int64\n",
      "Index(['mileage', 'engine', 'max_power', 'torque', 'seats'], dtype='object')\n",
      "Количество дубликатов в трейне:  985\n",
      "Количество дубликатов в тесте:  62\n"
     ]
    }
   ],
   "source": [
    "sample = df_train.sample(n = 10)\n",
    "display(sample)\n",
    "display(df_test.head())\n",
    "display(df_test.tail())\n",
    "print(df_test.isna().sum()) #количество пропусков по столбцам\n",
    "print(df_train.isna().sum()) #количество пропусков по столбцам\n",
    "cols_with_na = df_train.columns[df_train.isna().any()]\n",
    "print(cols_with_na) #столбцы с пропусками\n",
    "print('Количество дубликатов в трейне: ', df_train.duplicated().sum()) # запросим количество дубликатов\n",
    "print('Количество дубликатов в тесте: ', df_test.duplicated().sum()) # запросим количество дубликатов"
   ]
  },
  {
   "cell_type": "code",
   "execution_count": 6,
   "metadata": {},
   "outputs": [
    {
     "name": "stdout",
     "output_type": "stream",
     "text": [
      "Requirement already satisfied: sweetviz in c:\\users\\maxim\\anaconda3\\lib\\site-packages (2.3.1)\n",
      "Requirement already satisfied: importlib-resources>=1.2.0 in c:\\users\\maxim\\anaconda3\\lib\\site-packages (from sweetviz) (6.4.5)\n",
      "Requirement already satisfied: numpy>=1.16.0 in c:\\users\\maxim\\anaconda3\\lib\\site-packages (from sweetviz) (1.22.3)\n",
      "Requirement already satisfied: tqdm>=4.43.0 in c:\\users\\maxim\\anaconda3\\lib\\site-packages (from sweetviz) (4.64.0)\n",
      "Requirement already satisfied: jinja2>=2.11.1 in c:\\users\\maxim\\anaconda3\\lib\\site-packages (from sweetviz) (2.11.3)\n",
      "Requirement already satisfied: pandas!=1.0.0,!=1.0.1,!=1.0.2,>=0.25.3 in c:\\users\\maxim\\anaconda3\\lib\\site-packages (from sweetviz) (1.4.2)\n",
      "Requirement already satisfied: matplotlib>=3.1.3 in c:\\users\\maxim\\anaconda3\\lib\\site-packages (from sweetviz) (3.5.1)\n",
      "Requirement already satisfied: scipy>=1.3.2 in c:\\users\\maxim\\anaconda3\\lib\\site-packages (from sweetviz) (1.7.3)\n",
      "Requirement already satisfied: zipp>=3.1.0 in c:\\users\\maxim\\anaconda3\\lib\\site-packages (from importlib-resources>=1.2.0->sweetviz) (3.7.0)\n",
      "Requirement already satisfied: MarkupSafe>=0.23 in c:\\users\\maxim\\anaconda3\\lib\\site-packages (from jinja2>=2.11.1->sweetviz) (2.0.1)\n",
      "Requirement already satisfied: python-dateutil>=2.7 in c:\\users\\maxim\\anaconda3\\lib\\site-packages (from matplotlib>=3.1.3->sweetviz) (2.8.2)\n",
      "Requirement already satisfied: pyparsing>=2.2.1 in c:\\users\\maxim\\anaconda3\\lib\\site-packages (from matplotlib>=3.1.3->sweetviz) (3.0.4)\n",
      "Requirement already satisfied: fonttools>=4.22.0 in c:\\users\\maxim\\anaconda3\\lib\\site-packages (from matplotlib>=3.1.3->sweetviz) (4.25.0)\n",
      "Requirement already satisfied: pillow>=6.2.0 in c:\\users\\maxim\\anaconda3\\lib\\site-packages (from matplotlib>=3.1.3->sweetviz) (9.0.1)\n",
      "Requirement already satisfied: kiwisolver>=1.0.1 in c:\\users\\maxim\\anaconda3\\lib\\site-packages (from matplotlib>=3.1.3->sweetviz) (1.3.2)\n",
      "Requirement already satisfied: cycler>=0.10 in c:\\users\\maxim\\anaconda3\\lib\\site-packages (from matplotlib>=3.1.3->sweetviz) (0.11.0)\n",
      "Requirement already satisfied: packaging>=20.0 in c:\\users\\maxim\\anaconda3\\lib\\site-packages (from matplotlib>=3.1.3->sweetviz) (21.3)\n",
      "Requirement already satisfied: pytz>=2020.1 in c:\\users\\maxim\\anaconda3\\lib\\site-packages (from pandas!=1.0.0,!=1.0.1,!=1.0.2,>=0.25.3->sweetviz) (2021.3)\n",
      "Requirement already satisfied: six>=1.5 in c:\\users\\maxim\\anaconda3\\lib\\site-packages (from python-dateutil>=2.7->matplotlib>=3.1.3->sweetviz) (1.16.0)\n",
      "Requirement already satisfied: colorama in c:\\users\\maxim\\anaconda3\\lib\\site-packages (from tqdm>=4.43.0->sweetviz) (0.4.4)\n"
     ]
    }
   ],
   "source": [
    "!pip install sweetviz"
   ]
  },
  {
   "cell_type": "code",
   "execution_count": 7,
   "metadata": {
    "scrolled": true
   },
   "outputs": [
    {
     "data": {
      "application/vnd.jupyter.widget-view+json": {
       "model_id": "29d0446b9bb54e0586be6cf0125315c0",
       "version_major": 2,
       "version_minor": 0
      },
      "text/plain": [
       "                                             |                                             | [  0%]   00:00 ->…"
      ]
     },
     "metadata": {},
     "output_type": "display_data"
    },
    {
     "name": "stdout",
     "output_type": "stream",
     "text": [
      "Report SWEETVIZ_REPORT.html was generated! NOTEBOOK/COLAB USERS: the web browser MAY not pop up, regardless, the report IS saved in your notebook/colab files.\n"
     ]
    }
   ],
   "source": [
    "import sweetviz as sv\n",
    "report = sv.analyze(df_train)\n",
    "# Display the report\n",
    "report.show_html()"
   ]
  },
  {
   "cell_type": "markdown",
   "metadata": {
    "id": "KF6L8XVejuEe"
   },
   "source": [
    "Мы обнаружили пропуски. Давайте избавимся от них.\n",
    "\n",
    "- [ ] Заполните пропуски в столбцах медианами. Убедитесь, что после заполнения пропусков не осталось. Заполнение пропусков проводите для обоих наборов данных, если необходимо\n",
    "\n",
    "**Важно!**\n",
    "\n",
    "При заполнении пропусков и в тестовом, и тренировочном наборах данных вы определяетесь со стратегией предобработки пропущенных значений при потенциальной работе модели.\n",
    "\n",
    "Так как в теоретическом случае вы не имеете доступа к тестовой выборке, то заполняемой значение (у нас — медиана) вы считаете про *тренировочному* набору данных и им же заполняете *тестовый*."
   ]
  },
  {
   "cell_type": "markdown",
   "metadata": {},
   "source": [
    "От пропусков избавимся позже, так как для поиска медаиан нужно чтобы столбцы были числовых типов."
   ]
  },
  {
   "cell_type": "markdown",
   "metadata": {
    "id": "VE_ecCD7hRFV"
   },
   "source": [
    "### **Задание 2 (0.5 балла)**\n",
    "\n",
    "- [ ] Посмотрите, есть ли в трейне объекты с одинаковым признаковым описанием (целевую переменную следует исключить). Если есть, то сколько? (0.1 балла)\n",
    "- [ ] Отобразите такие объекты (0.15 балла)\n",
    "- [ ] Удалите повторяющиеся строки. Если при одинаковом признаковом описании цены на автомобили отличаются, то оставьте первую строку по этому автомобилю (0.15 балла)\n",
    "- [ ]  Обновите индексы строк таким образом, чтобы они шли от 0 без пропусков (0.1 балла)\n"
   ]
  },
  {
   "cell_type": "code",
   "execution_count": 8,
   "metadata": {
    "id": "SkyrBlHWiGY6"
   },
   "outputs": [
    {
     "name": "stdout",
     "output_type": "stream",
     "text": [
      "Количество дубликатов не считая целевую переменную:  1159\n"
     ]
    },
    {
     "data": {
      "text/html": [
       "<div>\n",
       "<style scoped>\n",
       "    .dataframe tbody tr th:only-of-type {\n",
       "        vertical-align: middle;\n",
       "    }\n",
       "\n",
       "    .dataframe tbody tr th {\n",
       "        vertical-align: top;\n",
       "    }\n",
       "\n",
       "    .dataframe thead th {\n",
       "        text-align: right;\n",
       "    }\n",
       "</style>\n",
       "<table border=\"1\" class=\"dataframe\">\n",
       "  <thead>\n",
       "    <tr style=\"text-align: right;\">\n",
       "      <th></th>\n",
       "      <th>name</th>\n",
       "      <th>year</th>\n",
       "      <th>selling_price</th>\n",
       "      <th>km_driven</th>\n",
       "      <th>fuel</th>\n",
       "      <th>seller_type</th>\n",
       "      <th>transmission</th>\n",
       "      <th>owner</th>\n",
       "      <th>mileage</th>\n",
       "      <th>engine</th>\n",
       "      <th>max_power</th>\n",
       "      <th>torque</th>\n",
       "      <th>seats</th>\n",
       "    </tr>\n",
       "  </thead>\n",
       "  <tbody>\n",
       "    <tr>\n",
       "      <th>254</th>\n",
       "      <td>Hyundai Grand i10 Sportz</td>\n",
       "      <td>2017</td>\n",
       "      <td>450000</td>\n",
       "      <td>35000</td>\n",
       "      <td>Petrol</td>\n",
       "      <td>Individual</td>\n",
       "      <td>Manual</td>\n",
       "      <td>First Owner</td>\n",
       "      <td>18.9 kmpl</td>\n",
       "      <td>1197 CC</td>\n",
       "      <td>82 bhp</td>\n",
       "      <td>114Nm@ 4000rpm</td>\n",
       "      <td>5.0</td>\n",
       "    </tr>\n",
       "    <tr>\n",
       "      <th>258</th>\n",
       "      <td>Maruti Swift VXI</td>\n",
       "      <td>2012</td>\n",
       "      <td>330000</td>\n",
       "      <td>50000</td>\n",
       "      <td>Petrol</td>\n",
       "      <td>Individual</td>\n",
       "      <td>Manual</td>\n",
       "      <td>Second Owner</td>\n",
       "      <td>18.6 kmpl</td>\n",
       "      <td>1197 CC</td>\n",
       "      <td>85.8 bhp</td>\n",
       "      <td>114Nm@ 4000rpm</td>\n",
       "      <td>5.0</td>\n",
       "    </tr>\n",
       "    <tr>\n",
       "      <th>268</th>\n",
       "      <td>Maruti Swift Dzire VXI</td>\n",
       "      <td>2014</td>\n",
       "      <td>400000</td>\n",
       "      <td>70000</td>\n",
       "      <td>Petrol</td>\n",
       "      <td>Individual</td>\n",
       "      <td>Manual</td>\n",
       "      <td>Second Owner</td>\n",
       "      <td>19.1 kmpl</td>\n",
       "      <td>1197 CC</td>\n",
       "      <td>85.8 bhp</td>\n",
       "      <td>114Nm@ 4000rpm</td>\n",
       "      <td>5.0</td>\n",
       "    </tr>\n",
       "    <tr>\n",
       "      <th>324</th>\n",
       "      <td>Jaguar XE 2016-2019 2.0L Diesel Prestige</td>\n",
       "      <td>2017</td>\n",
       "      <td>2625000</td>\n",
       "      <td>9000</td>\n",
       "      <td>Diesel</td>\n",
       "      <td>Dealer</td>\n",
       "      <td>Automatic</td>\n",
       "      <td>First Owner</td>\n",
       "      <td>13.6 kmpl</td>\n",
       "      <td>1999 CC</td>\n",
       "      <td>177 bhp</td>\n",
       "      <td>430Nm@ 1750-2500rpm</td>\n",
       "      <td>5.0</td>\n",
       "    </tr>\n",
       "    <tr>\n",
       "      <th>325</th>\n",
       "      <td>Lexus ES 300h</td>\n",
       "      <td>2019</td>\n",
       "      <td>5150000</td>\n",
       "      <td>20000</td>\n",
       "      <td>Petrol</td>\n",
       "      <td>Dealer</td>\n",
       "      <td>Automatic</td>\n",
       "      <td>First Owner</td>\n",
       "      <td>22.37 kmpl</td>\n",
       "      <td>2487 CC</td>\n",
       "      <td>214.56 bhp</td>\n",
       "      <td>202Nm@ 3600-5200rpm</td>\n",
       "      <td>5.0</td>\n",
       "    </tr>\n",
       "    <tr>\n",
       "      <th>...</th>\n",
       "      <td>...</td>\n",
       "      <td>...</td>\n",
       "      <td>...</td>\n",
       "      <td>...</td>\n",
       "      <td>...</td>\n",
       "      <td>...</td>\n",
       "      <td>...</td>\n",
       "      <td>...</td>\n",
       "      <td>...</td>\n",
       "      <td>...</td>\n",
       "      <td>...</td>\n",
       "      <td>...</td>\n",
       "      <td>...</td>\n",
       "    </tr>\n",
       "    <tr>\n",
       "      <th>6947</th>\n",
       "      <td>Chevrolet Spark 1.0 LS</td>\n",
       "      <td>2010</td>\n",
       "      <td>140000</td>\n",
       "      <td>60000</td>\n",
       "      <td>Petrol</td>\n",
       "      <td>Individual</td>\n",
       "      <td>Manual</td>\n",
       "      <td>Second Owner</td>\n",
       "      <td>18.0 kmpl</td>\n",
       "      <td>995 CC</td>\n",
       "      <td>62 bhp</td>\n",
       "      <td>90.3Nm@ 4200rpm</td>\n",
       "      <td>5.0</td>\n",
       "    </tr>\n",
       "    <tr>\n",
       "      <th>6984</th>\n",
       "      <td>Ford Freestyle Titanium Plus Diesel BSIV</td>\n",
       "      <td>2018</td>\n",
       "      <td>746000</td>\n",
       "      <td>24000</td>\n",
       "      <td>Diesel</td>\n",
       "      <td>Individual</td>\n",
       "      <td>Manual</td>\n",
       "      <td>First Owner</td>\n",
       "      <td>24.4 kmpl</td>\n",
       "      <td>1498 CC</td>\n",
       "      <td>98.63 bhp</td>\n",
       "      <td>215Nm@ 1750-3000rpm</td>\n",
       "      <td>5.0</td>\n",
       "    </tr>\n",
       "    <tr>\n",
       "      <th>6989</th>\n",
       "      <td>Maruti Swift Dzire VDI</td>\n",
       "      <td>2015</td>\n",
       "      <td>625000</td>\n",
       "      <td>50000</td>\n",
       "      <td>Diesel</td>\n",
       "      <td>Individual</td>\n",
       "      <td>Manual</td>\n",
       "      <td>First Owner</td>\n",
       "      <td>26.59 kmpl</td>\n",
       "      <td>1248 CC</td>\n",
       "      <td>74 bhp</td>\n",
       "      <td>190Nm@ 2000rpm</td>\n",
       "      <td>5.0</td>\n",
       "    </tr>\n",
       "    <tr>\n",
       "      <th>6997</th>\n",
       "      <td>Tata Indigo CR4</td>\n",
       "      <td>2013</td>\n",
       "      <td>290000</td>\n",
       "      <td>25000</td>\n",
       "      <td>Diesel</td>\n",
       "      <td>Individual</td>\n",
       "      <td>Manual</td>\n",
       "      <td>First Owner</td>\n",
       "      <td>23.57 kmpl</td>\n",
       "      <td>1396 CC</td>\n",
       "      <td>70 bhp</td>\n",
       "      <td>140Nm@ 1800-3000rpm</td>\n",
       "      <td>5.0</td>\n",
       "    </tr>\n",
       "    <tr>\n",
       "      <th>6998</th>\n",
       "      <td>Tata Indigo CR4</td>\n",
       "      <td>2013</td>\n",
       "      <td>290000</td>\n",
       "      <td>25000</td>\n",
       "      <td>Diesel</td>\n",
       "      <td>Individual</td>\n",
       "      <td>Manual</td>\n",
       "      <td>First Owner</td>\n",
       "      <td>23.57 kmpl</td>\n",
       "      <td>1396 CC</td>\n",
       "      <td>70 bhp</td>\n",
       "      <td>140Nm@ 1800-3000rpm</td>\n",
       "      <td>5.0</td>\n",
       "    </tr>\n",
       "  </tbody>\n",
       "</table>\n",
       "<p>1159 rows × 13 columns</p>\n",
       "</div>"
      ],
      "text/plain": [
       "                                          name  year  selling_price  \\\n",
       "254                   Hyundai Grand i10 Sportz  2017         450000   \n",
       "258                           Maruti Swift VXI  2012         330000   \n",
       "268                     Maruti Swift Dzire VXI  2014         400000   \n",
       "324   Jaguar XE 2016-2019 2.0L Diesel Prestige  2017        2625000   \n",
       "325                              Lexus ES 300h  2019        5150000   \n",
       "...                                        ...   ...            ...   \n",
       "6947                    Chevrolet Spark 1.0 LS  2010         140000   \n",
       "6984  Ford Freestyle Titanium Plus Diesel BSIV  2018         746000   \n",
       "6989                    Maruti Swift Dzire VDI  2015         625000   \n",
       "6997                           Tata Indigo CR4  2013         290000   \n",
       "6998                           Tata Indigo CR4  2013         290000   \n",
       "\n",
       "      km_driven    fuel seller_type transmission         owner     mileage  \\\n",
       "254       35000  Petrol  Individual       Manual   First Owner   18.9 kmpl   \n",
       "258       50000  Petrol  Individual       Manual  Second Owner   18.6 kmpl   \n",
       "268       70000  Petrol  Individual       Manual  Second Owner   19.1 kmpl   \n",
       "324        9000  Diesel      Dealer    Automatic   First Owner   13.6 kmpl   \n",
       "325       20000  Petrol      Dealer    Automatic   First Owner  22.37 kmpl   \n",
       "...         ...     ...         ...          ...           ...         ...   \n",
       "6947      60000  Petrol  Individual       Manual  Second Owner   18.0 kmpl   \n",
       "6984      24000  Diesel  Individual       Manual   First Owner   24.4 kmpl   \n",
       "6989      50000  Diesel  Individual       Manual   First Owner  26.59 kmpl   \n",
       "6997      25000  Diesel  Individual       Manual   First Owner  23.57 kmpl   \n",
       "6998      25000  Diesel  Individual       Manual   First Owner  23.57 kmpl   \n",
       "\n",
       "       engine   max_power               torque  seats  \n",
       "254   1197 CC      82 bhp       114Nm@ 4000rpm    5.0  \n",
       "258   1197 CC    85.8 bhp       114Nm@ 4000rpm    5.0  \n",
       "268   1197 CC    85.8 bhp       114Nm@ 4000rpm    5.0  \n",
       "324   1999 CC     177 bhp  430Nm@ 1750-2500rpm    5.0  \n",
       "325   2487 CC  214.56 bhp  202Nm@ 3600-5200rpm    5.0  \n",
       "...       ...         ...                  ...    ...  \n",
       "6947   995 CC      62 bhp      90.3Nm@ 4200rpm    5.0  \n",
       "6984  1498 CC   98.63 bhp  215Nm@ 1750-3000rpm    5.0  \n",
       "6989  1248 CC      74 bhp       190Nm@ 2000rpm    5.0  \n",
       "6997  1396 CC      70 bhp  140Nm@ 1800-3000rpm    5.0  \n",
       "6998  1396 CC      70 bhp  140Nm@ 1800-3000rpm    5.0  \n",
       "\n",
       "[1159 rows x 13 columns]"
      ]
     },
     "metadata": {},
     "output_type": "display_data"
    },
    {
     "name": "stdout",
     "output_type": "stream",
     "text": [
      "0\n",
      "(5840, 13)\n"
     ]
    }
   ],
   "source": [
    "print('Количество дубликатов не считая целевую переменную: ', df_train.drop('selling_price', axis = 1).duplicated().sum()) # запросим количество дубликатов ещё раз\n",
    "display(df_train[df_train.drop('selling_price', axis = 1).duplicated()])\n",
    "check_cols = df_train.drop('selling_price', axis = 1).columns\n",
    "df_train = df_train.drop_duplicates(subset = check_cols, keep = 'first').reset_index(drop=True) # удалим дубликаты\n",
    "print(df_train.duplicated().sum()) # проверим что дубликатов не осталось\n",
    "print(df_train.shape) # проверим что дубликатов не осталось"
   ]
  },
  {
   "cell_type": "code",
   "execution_count": 9,
   "metadata": {
    "id": "955cO__niGyz"
   },
   "outputs": [],
   "source": [
    "assert df_train.shape == (5840, 13)"
   ]
  },
  {
   "cell_type": "markdown",
   "metadata": {
    "id": "sam1Pzn-iU86"
   },
   "source": [
    "Отлично! Мы избавились от маленьких и явных проблем. Теперь перейдем к более сложным недостаткам полученной таблицы.\n",
    "\n",
    "### **Задание 3 (0.25 балла)**\n",
    "\n",
    "Вы могли заметить, что с признаками ``mileage, engine, max_power и torque`` всё не очень хорошо. Они распознаются как строки (можно убедиться в этом, вызвав `data.dtypes`). Однако эти переменные не являются категориальными — они — числа. Соответственно, нужно привести их к числовому виду.\n",
    "\n",
    "**Задача :**\n",
    "* [ ] Уберите единицы измерения для признаков ``mileage, engine, max_power``.\n",
    "* [ ] Приведите тип данных к ``float``.\n",
    "* [ ] Удалите столбец ``torque``\n",
    "\n",
    "\n",
    "**Важно**\n",
    "- Все действия нужно производить над обоими датасетами — `train` и `test`.\n",
    "- Стобец ``torque`` мы удаляем для простоты. В идеальном случае, его также стоило бы предобработать."
   ]
  },
  {
   "cell_type": "code",
   "execution_count": 10,
   "metadata": {},
   "outputs": [],
   "source": [
    "def clearing(row, pattern):\n",
    "    row = row.strip()\n",
    "    result = re.findall(pattern, row)\n",
    "    if result:  \n",
    "        return result[0]\n",
    "    return None"
   ]
  },
  {
   "cell_type": "code",
   "execution_count": 11,
   "metadata": {
    "scrolled": true
   },
   "outputs": [
    {
     "data": {
      "text/html": [
       "<div>\n",
       "<style scoped>\n",
       "    .dataframe tbody tr th:only-of-type {\n",
       "        vertical-align: middle;\n",
       "    }\n",
       "\n",
       "    .dataframe tbody tr th {\n",
       "        vertical-align: top;\n",
       "    }\n",
       "\n",
       "    .dataframe thead th {\n",
       "        text-align: right;\n",
       "    }\n",
       "</style>\n",
       "<table border=\"1\" class=\"dataframe\">\n",
       "  <thead>\n",
       "    <tr style=\"text-align: right;\">\n",
       "      <th></th>\n",
       "      <th>name</th>\n",
       "      <th>year</th>\n",
       "      <th>selling_price</th>\n",
       "      <th>km_driven</th>\n",
       "      <th>fuel</th>\n",
       "      <th>seller_type</th>\n",
       "      <th>transmission</th>\n",
       "      <th>owner</th>\n",
       "      <th>mileage</th>\n",
       "      <th>engine</th>\n",
       "      <th>max_power</th>\n",
       "      <th>torque</th>\n",
       "      <th>seats</th>\n",
       "    </tr>\n",
       "  </thead>\n",
       "  <tbody>\n",
       "    <tr>\n",
       "      <th>0</th>\n",
       "      <td>Maruti Swift Dzire VDI</td>\n",
       "      <td>2014</td>\n",
       "      <td>450000</td>\n",
       "      <td>145500</td>\n",
       "      <td>Diesel</td>\n",
       "      <td>Individual</td>\n",
       "      <td>Manual</td>\n",
       "      <td>First Owner</td>\n",
       "      <td>23.4</td>\n",
       "      <td>1248</td>\n",
       "      <td>74</td>\n",
       "      <td>190Nm@ 2000rpm</td>\n",
       "      <td>5.0</td>\n",
       "    </tr>\n",
       "    <tr>\n",
       "      <th>1</th>\n",
       "      <td>Skoda Rapid 1.5 TDI Ambition</td>\n",
       "      <td>2014</td>\n",
       "      <td>370000</td>\n",
       "      <td>120000</td>\n",
       "      <td>Diesel</td>\n",
       "      <td>Individual</td>\n",
       "      <td>Manual</td>\n",
       "      <td>Second Owner</td>\n",
       "      <td>21.14</td>\n",
       "      <td>1498</td>\n",
       "      <td>103.52</td>\n",
       "      <td>250Nm@ 1500-2500rpm</td>\n",
       "      <td>5.0</td>\n",
       "    </tr>\n",
       "  </tbody>\n",
       "</table>\n",
       "</div>"
      ],
      "text/plain": [
       "                           name  year  selling_price  km_driven    fuel  \\\n",
       "0        Maruti Swift Dzire VDI  2014         450000     145500  Diesel   \n",
       "1  Skoda Rapid 1.5 TDI Ambition  2014         370000     120000  Diesel   \n",
       "\n",
       "  seller_type transmission         owner mileage engine max_power  \\\n",
       "0  Individual       Manual   First Owner    23.4   1248        74   \n",
       "1  Individual       Manual  Second Owner   21.14   1498    103.52   \n",
       "\n",
       "                torque  seats  \n",
       "0       190Nm@ 2000rpm    5.0  \n",
       "1  250Nm@ 1500-2500rpm    5.0  "
      ]
     },
     "metadata": {},
     "output_type": "display_data"
    }
   ],
   "source": [
    "df_train['mileage'] = df_train[~df_train['mileage'].isna()]['mileage'].apply(clearing, pattern = r'(\\d+\\.\\d+)')\n",
    "df_train['engine'] = df_train[~df_train['engine'].isna()]['engine'].apply(clearing, pattern = r'(\\d+)')\n",
    "df_train['max_power'] = df_train[~df_train['max_power'].isna()]['max_power'].apply(clearing, pattern = r'(\\d+\\.?\\d+)')\n",
    "display(df_train.head(2))"
   ]
  },
  {
   "cell_type": "code",
   "execution_count": 12,
   "metadata": {},
   "outputs": [
    {
     "data": {
      "text/html": [
       "<div>\n",
       "<style scoped>\n",
       "    .dataframe tbody tr th:only-of-type {\n",
       "        vertical-align: middle;\n",
       "    }\n",
       "\n",
       "    .dataframe tbody tr th {\n",
       "        vertical-align: top;\n",
       "    }\n",
       "\n",
       "    .dataframe thead th {\n",
       "        text-align: right;\n",
       "    }\n",
       "</style>\n",
       "<table border=\"1\" class=\"dataframe\">\n",
       "  <thead>\n",
       "    <tr style=\"text-align: right;\">\n",
       "      <th></th>\n",
       "      <th>name</th>\n",
       "      <th>year</th>\n",
       "      <th>selling_price</th>\n",
       "      <th>km_driven</th>\n",
       "      <th>fuel</th>\n",
       "      <th>seller_type</th>\n",
       "      <th>transmission</th>\n",
       "      <th>owner</th>\n",
       "      <th>mileage</th>\n",
       "      <th>engine</th>\n",
       "      <th>max_power</th>\n",
       "      <th>torque</th>\n",
       "      <th>seats</th>\n",
       "    </tr>\n",
       "  </thead>\n",
       "  <tbody>\n",
       "    <tr>\n",
       "      <th>0</th>\n",
       "      <td>Mahindra Xylo E4 BS IV</td>\n",
       "      <td>2010</td>\n",
       "      <td>229999</td>\n",
       "      <td>168000</td>\n",
       "      <td>Diesel</td>\n",
       "      <td>Individual</td>\n",
       "      <td>Manual</td>\n",
       "      <td>First Owner</td>\n",
       "      <td>14.0</td>\n",
       "      <td>2498</td>\n",
       "      <td>112</td>\n",
       "      <td>260 Nm at 1800-2200 rpm</td>\n",
       "      <td>7.0</td>\n",
       "    </tr>\n",
       "    <tr>\n",
       "      <th>1</th>\n",
       "      <td>Tata Nexon 1.5 Revotorq XE</td>\n",
       "      <td>2017</td>\n",
       "      <td>665000</td>\n",
       "      <td>25000</td>\n",
       "      <td>Diesel</td>\n",
       "      <td>Individual</td>\n",
       "      <td>Manual</td>\n",
       "      <td>First Owner</td>\n",
       "      <td>21.5</td>\n",
       "      <td>1497</td>\n",
       "      <td>108.5</td>\n",
       "      <td>260Nm@ 1500-2750rpm</td>\n",
       "      <td>5.0</td>\n",
       "    </tr>\n",
       "  </tbody>\n",
       "</table>\n",
       "</div>"
      ],
      "text/plain": [
       "                         name  year  selling_price  km_driven    fuel  \\\n",
       "0      Mahindra Xylo E4 BS IV  2010         229999     168000  Diesel   \n",
       "1  Tata Nexon 1.5 Revotorq XE  2017         665000      25000  Diesel   \n",
       "\n",
       "  seller_type transmission        owner mileage engine max_power  \\\n",
       "0  Individual       Manual  First Owner    14.0   2498       112   \n",
       "1  Individual       Manual  First Owner    21.5   1497     108.5   \n",
       "\n",
       "                    torque  seats  \n",
       "0  260 Nm at 1800-2200 rpm    7.0  \n",
       "1      260Nm@ 1500-2750rpm    5.0  "
      ]
     },
     "metadata": {},
     "output_type": "display_data"
    }
   ],
   "source": [
    "df_test['mileage'] = df_test[~df_test['mileage'].isna()]['mileage'].apply(clearing, pattern = r'(\\d+\\.\\d+)')\n",
    "df_test['engine'] = df_test[~df_test['engine'].isna()]['engine'].apply(clearing, pattern = r'(\\d+)')\n",
    "df_test['max_power'] = df_test[~df_test['max_power'].isna()]['max_power'].apply(clearing, pattern = r'(\\d+\\.?\\d+)')\n",
    "display(df_test.head(2))"
   ]
  },
  {
   "cell_type": "code",
   "execution_count": 13,
   "metadata": {},
   "outputs": [],
   "source": [
    "try:\n",
    "    df_train['mileage'] = df_train['mileage'].astype('float') # изменим на float\n",
    "    df_train['engine'] = df_train['engine'].astype('float') # изменим на float\n",
    "    df_train['max_power'] = df_train['max_power'].astype('float') # изменим на float\n",
    "    df_test['mileage'] = df_test['mileage'].astype('float') # изменим на float\n",
    "    df_test['engine'] = df_test['engine'].astype('float') # изменим на float\n",
    "    df_test['max_power'] = df_test['max_power'].astype('float') # изменим на float\n",
    "except:\n",
    "    print('Проверьте значения в столбце')"
   ]
  },
  {
   "cell_type": "code",
   "execution_count": 14,
   "metadata": {},
   "outputs": [
    {
     "name": "stdout",
     "output_type": "stream",
     "text": [
      "<class 'pandas.core.frame.DataFrame'>\n",
      "RangeIndex: 5840 entries, 0 to 5839\n",
      "Data columns (total 12 columns):\n",
      " #   Column         Non-Null Count  Dtype  \n",
      "---  ------         --------------  -----  \n",
      " 0   name           5840 non-null   object \n",
      " 1   year           5840 non-null   int64  \n",
      " 2   selling_price  5840 non-null   int64  \n",
      " 3   km_driven      5840 non-null   int64  \n",
      " 4   fuel           5840 non-null   object \n",
      " 5   seller_type    5840 non-null   object \n",
      " 6   transmission   5840 non-null   object \n",
      " 7   owner          5840 non-null   object \n",
      " 8   mileage        5654 non-null   float64\n",
      " 9   engine         5654 non-null   float64\n",
      " 10  max_power      5653 non-null   float64\n",
      " 11  seats          5654 non-null   float64\n",
      "dtypes: float64(4), int64(3), object(5)\n",
      "memory usage: 547.6+ KB\n"
     ]
    }
   ],
   "source": [
    "df_train = df_train.drop('torque', axis = 1)\n",
    "df_test = df_test.drop('torque', axis = 1)\n",
    "df_train.info()"
   ]
  },
  {
   "cell_type": "markdown",
   "metadata": {
    "id": "_r9cXKx9lDaZ"
   },
   "source": [
    "### **Задание 4 (0.1 балла)**\n",
    "\n",
    "Теперь, когда не осталось пропусков, давайте преобразуем столбцы к более подходящим типам. А именно столбцы ``engnine`` и ``seats`` к приведем к `int`.\n",
    "\n",
    "- [ ] Осуществите приведение столбцов к необходимому типу."
   ]
  },
  {
   "cell_type": "markdown",
   "metadata": {},
   "source": [
    "Пришло время заполнить пропуски!"
   ]
  },
  {
   "cell_type": "code",
   "execution_count": 15,
   "metadata": {},
   "outputs": [
    {
     "name": "stdout",
     "output_type": "stream",
     "text": [
      "name             0\n",
      "year             0\n",
      "selling_price    0\n",
      "km_driven        0\n",
      "fuel             0\n",
      "seller_type      0\n",
      "transmission     0\n",
      "owner            0\n",
      "mileage          0\n",
      "engine           0\n",
      "max_power        0\n",
      "seats            0\n",
      "dtype: int64\n",
      "name             0\n",
      "year             0\n",
      "selling_price    0\n",
      "km_driven        0\n",
      "fuel             0\n",
      "seller_type      0\n",
      "transmission     0\n",
      "owner            0\n",
      "mileage          0\n",
      "engine           0\n",
      "max_power        0\n",
      "seats            0\n",
      "dtype: int64\n"
     ]
    }
   ],
   "source": [
    "cols_with_na = df_train.columns[df_train.isna().any()]\n",
    "for col in cols_with_na:\n",
    "    med = df_train[col].median()\n",
    "    df_train[col] = df_train[col].fillna(med)\n",
    "    df_test[col] = df_test[col].fillna(med)\n",
    "print(df_test.isna().sum()) #количество пропусков по столбцам\n",
    "print(df_train.isna().sum()) #количество пропусков по столбцам"
   ]
  },
  {
   "cell_type": "code",
   "execution_count": 16,
   "metadata": {
    "id": "JUT8mOQNlmlN"
   },
   "outputs": [],
   "source": [
    "try:\n",
    "    df_train['seats'] = df_train['seats'].astype('int') # изменим на int\n",
    "    df_train['engine'] = df_train['engine'].astype('int') # изменим на int\n",
    "    \n",
    "    df_test['mileage'] = df_test['mileage'].astype('int') # изменим на int\n",
    "    df_test['engine'] = df_test['engine'].astype('int') # изменим на int\n",
    "except:\n",
    "    print('Проверьте значения в столбце')"
   ]
  },
  {
   "cell_type": "code",
   "execution_count": 17,
   "metadata": {},
   "outputs": [
    {
     "name": "stdout",
     "output_type": "stream",
     "text": [
      "<class 'pandas.core.frame.DataFrame'>\n",
      "RangeIndex: 5840 entries, 0 to 5839\n",
      "Data columns (total 12 columns):\n",
      " #   Column         Non-Null Count  Dtype  \n",
      "---  ------         --------------  -----  \n",
      " 0   name           5840 non-null   object \n",
      " 1   year           5840 non-null   int64  \n",
      " 2   selling_price  5840 non-null   int64  \n",
      " 3   km_driven      5840 non-null   int64  \n",
      " 4   fuel           5840 non-null   object \n",
      " 5   seller_type    5840 non-null   object \n",
      " 6   transmission   5840 non-null   object \n",
      " 7   owner          5840 non-null   object \n",
      " 8   mileage        5840 non-null   float64\n",
      " 9   engine         5840 non-null   int32  \n",
      " 10  max_power      5840 non-null   float64\n",
      " 11  seats          5840 non-null   int32  \n",
      "dtypes: float64(2), int32(2), int64(3), object(5)\n",
      "memory usage: 502.0+ KB\n"
     ]
    }
   ],
   "source": [
    "df_train.info()"
   ]
  },
  {
   "cell_type": "markdown",
   "metadata": {
    "id": "DFuQ_PsulqCs"
   },
   "source": [
    "### **Задание 5 (0.1 балла)**\n",
    "\n",
    "Отлично! Мы провели \"косметическую\" предобработку и теперь готовы сделать важный шаг в контексте анализа данных. А именно — посмотреть на статистики!\n",
    "\n",
    "**Ваша задача:**\n",
    "- [ ] Посчитайте основные статистики по числовым столбцам для трейна и теста\n",
    "- [ ] Посчитайте основные статистики по категориальным столбцам для трейна и теста\n",
    "\n",
    "**Подсказка:**\n",
    "\n",
    "Используте ``.describe()`` с нужным(и) аргументом(-ами).\n",
    "\n",
    "**Примечание:**\n",
    "\n",
    "Более корректно рассматривать статистики до заполнения пропусков и после, чтобы убедиться, что мы не внесли каких-либо серьезных сдвигов в изначальные рапсределения."
   ]
  },
  {
   "cell_type": "code",
   "execution_count": 18,
   "metadata": {
    "id": "kYKWyjsLYQuz"
   },
   "outputs": [
    {
     "data": {
      "text/html": [
       "<div>\n",
       "<style scoped>\n",
       "    .dataframe tbody tr th:only-of-type {\n",
       "        vertical-align: middle;\n",
       "    }\n",
       "\n",
       "    .dataframe tbody tr th {\n",
       "        vertical-align: top;\n",
       "    }\n",
       "\n",
       "    .dataframe thead th {\n",
       "        text-align: right;\n",
       "    }\n",
       "</style>\n",
       "<table border=\"1\" class=\"dataframe\">\n",
       "  <thead>\n",
       "    <tr style=\"text-align: right;\">\n",
       "      <th></th>\n",
       "      <th>year</th>\n",
       "      <th>selling_price</th>\n",
       "      <th>km_driven</th>\n",
       "      <th>mileage</th>\n",
       "      <th>engine</th>\n",
       "      <th>max_power</th>\n",
       "      <th>seats</th>\n",
       "    </tr>\n",
       "  </thead>\n",
       "  <tbody>\n",
       "    <tr>\n",
       "      <th>count</th>\n",
       "      <td>5840.000</td>\n",
       "      <td>5.840000e+03</td>\n",
       "      <td>5840.000</td>\n",
       "      <td>5840.000</td>\n",
       "      <td>5840.000</td>\n",
       "      <td>5840.000</td>\n",
       "      <td>5840.000</td>\n",
       "    </tr>\n",
       "    <tr>\n",
       "      <th>mean</th>\n",
       "      <td>2013.428</td>\n",
       "      <td>5.229601e+05</td>\n",
       "      <td>73952.242</td>\n",
       "      <td>19.431</td>\n",
       "      <td>1429.449</td>\n",
       "      <td>87.948</td>\n",
       "      <td>5.427</td>\n",
       "    </tr>\n",
       "    <tr>\n",
       "      <th>std</th>\n",
       "      <td>4.096</td>\n",
       "      <td>5.354320e+05</td>\n",
       "      <td>60071.137</td>\n",
       "      <td>3.986</td>\n",
       "      <td>485.663</td>\n",
       "      <td>31.578</td>\n",
       "      <td>0.982</td>\n",
       "    </tr>\n",
       "    <tr>\n",
       "      <th>min</th>\n",
       "      <td>1983.000</td>\n",
       "      <td>2.999900e+04</td>\n",
       "      <td>1.000</td>\n",
       "      <td>0.000</td>\n",
       "      <td>624.000</td>\n",
       "      <td>32.800</td>\n",
       "      <td>2.000</td>\n",
       "    </tr>\n",
       "    <tr>\n",
       "      <th>25%</th>\n",
       "      <td>2011.000</td>\n",
       "      <td>2.500000e+05</td>\n",
       "      <td>39000.000</td>\n",
       "      <td>16.950</td>\n",
       "      <td>1197.000</td>\n",
       "      <td>68.000</td>\n",
       "      <td>5.000</td>\n",
       "    </tr>\n",
       "    <tr>\n",
       "      <th>50%</th>\n",
       "      <td>2014.000</td>\n",
       "      <td>4.050000e+05</td>\n",
       "      <td>70000.000</td>\n",
       "      <td>19.370</td>\n",
       "      <td>1248.000</td>\n",
       "      <td>81.860</td>\n",
       "      <td>5.000</td>\n",
       "    </tr>\n",
       "    <tr>\n",
       "      <th>75%</th>\n",
       "      <td>2017.000</td>\n",
       "      <td>6.400000e+05</td>\n",
       "      <td>100000.000</td>\n",
       "      <td>22.300</td>\n",
       "      <td>1498.000</td>\n",
       "      <td>99.000</td>\n",
       "      <td>5.000</td>\n",
       "    </tr>\n",
       "    <tr>\n",
       "      <th>max</th>\n",
       "      <td>2020.000</td>\n",
       "      <td>1.000000e+07</td>\n",
       "      <td>2360457.000</td>\n",
       "      <td>42.000</td>\n",
       "      <td>3604.000</td>\n",
       "      <td>400.000</td>\n",
       "      <td>14.000</td>\n",
       "    </tr>\n",
       "  </tbody>\n",
       "</table>\n",
       "</div>"
      ],
      "text/plain": [
       "           year  selling_price    km_driven   mileage    engine  max_power  \\\n",
       "count  5840.000   5.840000e+03     5840.000  5840.000  5840.000   5840.000   \n",
       "mean   2013.428   5.229601e+05    73952.242    19.431  1429.449     87.948   \n",
       "std       4.096   5.354320e+05    60071.137     3.986   485.663     31.578   \n",
       "min    1983.000   2.999900e+04        1.000     0.000   624.000     32.800   \n",
       "25%    2011.000   2.500000e+05    39000.000    16.950  1197.000     68.000   \n",
       "50%    2014.000   4.050000e+05    70000.000    19.370  1248.000     81.860   \n",
       "75%    2017.000   6.400000e+05   100000.000    22.300  1498.000     99.000   \n",
       "max    2020.000   1.000000e+07  2360457.000    42.000  3604.000    400.000   \n",
       "\n",
       "          seats  \n",
       "count  5840.000  \n",
       "mean      5.427  \n",
       "std       0.982  \n",
       "min       2.000  \n",
       "25%       5.000  \n",
       "50%       5.000  \n",
       "75%       5.000  \n",
       "max      14.000  "
      ]
     },
     "metadata": {},
     "output_type": "display_data"
    },
    {
     "data": {
      "text/html": [
       "<div>\n",
       "<style scoped>\n",
       "    .dataframe tbody tr th:only-of-type {\n",
       "        vertical-align: middle;\n",
       "    }\n",
       "\n",
       "    .dataframe tbody tr th {\n",
       "        vertical-align: top;\n",
       "    }\n",
       "\n",
       "    .dataframe thead th {\n",
       "        text-align: right;\n",
       "    }\n",
       "</style>\n",
       "<table border=\"1\" class=\"dataframe\">\n",
       "  <thead>\n",
       "    <tr style=\"text-align: right;\">\n",
       "      <th></th>\n",
       "      <th>year</th>\n",
       "      <th>selling_price</th>\n",
       "      <th>km_driven</th>\n",
       "      <th>mileage</th>\n",
       "      <th>engine</th>\n",
       "      <th>max_power</th>\n",
       "      <th>seats</th>\n",
       "    </tr>\n",
       "  </thead>\n",
       "  <tbody>\n",
       "    <tr>\n",
       "      <th>count</th>\n",
       "      <td>1000.000</td>\n",
       "      <td>1000.000</td>\n",
       "      <td>1000.000</td>\n",
       "      <td>1000.000</td>\n",
       "      <td>1000.000</td>\n",
       "      <td>1000.000</td>\n",
       "      <td>1000.000</td>\n",
       "    </tr>\n",
       "    <tr>\n",
       "      <th>mean</th>\n",
       "      <td>2013.681</td>\n",
       "      <td>617901.042</td>\n",
       "      <td>71393.341</td>\n",
       "      <td>18.912</td>\n",
       "      <td>1454.876</td>\n",
       "      <td>90.842</td>\n",
       "      <td>5.403</td>\n",
       "    </tr>\n",
       "    <tr>\n",
       "      <th>std</th>\n",
       "      <td>4.012</td>\n",
       "      <td>758553.861</td>\n",
       "      <td>48486.219</td>\n",
       "      <td>3.986</td>\n",
       "      <td>521.996</td>\n",
       "      <td>34.893</td>\n",
       "      <td>0.913</td>\n",
       "    </tr>\n",
       "    <tr>\n",
       "      <th>min</th>\n",
       "      <td>1995.000</td>\n",
       "      <td>31000.000</td>\n",
       "      <td>1303.000</td>\n",
       "      <td>0.000</td>\n",
       "      <td>624.000</td>\n",
       "      <td>34.200</td>\n",
       "      <td>4.000</td>\n",
       "    </tr>\n",
       "    <tr>\n",
       "      <th>25%</th>\n",
       "      <td>2011.000</td>\n",
       "      <td>250000.000</td>\n",
       "      <td>37000.000</td>\n",
       "      <td>16.000</td>\n",
       "      <td>1197.000</td>\n",
       "      <td>69.000</td>\n",
       "      <td>5.000</td>\n",
       "    </tr>\n",
       "    <tr>\n",
       "      <th>50%</th>\n",
       "      <td>2014.000</td>\n",
       "      <td>434999.000</td>\n",
       "      <td>61500.000</td>\n",
       "      <td>19.000</td>\n",
       "      <td>1248.000</td>\n",
       "      <td>82.425</td>\n",
       "      <td>5.000</td>\n",
       "    </tr>\n",
       "    <tr>\n",
       "      <th>75%</th>\n",
       "      <td>2017.000</td>\n",
       "      <td>670000.000</td>\n",
       "      <td>100000.000</td>\n",
       "      <td>22.000</td>\n",
       "      <td>1582.000</td>\n",
       "      <td>102.000</td>\n",
       "      <td>5.000</td>\n",
       "    </tr>\n",
       "    <tr>\n",
       "      <th>max</th>\n",
       "      <td>2020.000</td>\n",
       "      <td>6000000.000</td>\n",
       "      <td>375000.000</td>\n",
       "      <td>32.000</td>\n",
       "      <td>3604.000</td>\n",
       "      <td>280.000</td>\n",
       "      <td>9.000</td>\n",
       "    </tr>\n",
       "  </tbody>\n",
       "</table>\n",
       "</div>"
      ],
      "text/plain": [
       "           year  selling_price   km_driven   mileage    engine  max_power  \\\n",
       "count  1000.000       1000.000    1000.000  1000.000  1000.000   1000.000   \n",
       "mean   2013.681     617901.042   71393.341    18.912  1454.876     90.842   \n",
       "std       4.012     758553.861   48486.219     3.986   521.996     34.893   \n",
       "min    1995.000      31000.000    1303.000     0.000   624.000     34.200   \n",
       "25%    2011.000     250000.000   37000.000    16.000  1197.000     69.000   \n",
       "50%    2014.000     434999.000   61500.000    19.000  1248.000     82.425   \n",
       "75%    2017.000     670000.000  100000.000    22.000  1582.000    102.000   \n",
       "max    2020.000    6000000.000  375000.000    32.000  3604.000    280.000   \n",
       "\n",
       "          seats  \n",
       "count  1000.000  \n",
       "mean      5.403  \n",
       "std       0.913  \n",
       "min       4.000  \n",
       "25%       5.000  \n",
       "50%       5.000  \n",
       "75%       5.000  \n",
       "max       9.000  "
      ]
     },
     "metadata": {},
     "output_type": "display_data"
    },
    {
     "data": {
      "text/html": [
       "<div>\n",
       "<style scoped>\n",
       "    .dataframe tbody tr th:only-of-type {\n",
       "        vertical-align: middle;\n",
       "    }\n",
       "\n",
       "    .dataframe tbody tr th {\n",
       "        vertical-align: top;\n",
       "    }\n",
       "\n",
       "    .dataframe thead th {\n",
       "        text-align: right;\n",
       "    }\n",
       "</style>\n",
       "<table border=\"1\" class=\"dataframe\">\n",
       "  <thead>\n",
       "    <tr style=\"text-align: right;\">\n",
       "      <th></th>\n",
       "      <th>name</th>\n",
       "      <th>fuel</th>\n",
       "      <th>seller_type</th>\n",
       "      <th>transmission</th>\n",
       "      <th>owner</th>\n",
       "    </tr>\n",
       "  </thead>\n",
       "  <tbody>\n",
       "    <tr>\n",
       "      <th>count</th>\n",
       "      <td>5840</td>\n",
       "      <td>5840</td>\n",
       "      <td>5840</td>\n",
       "      <td>5840</td>\n",
       "      <td>5840</td>\n",
       "    </tr>\n",
       "    <tr>\n",
       "      <th>unique</th>\n",
       "      <td>1924</td>\n",
       "      <td>4</td>\n",
       "      <td>3</td>\n",
       "      <td>2</td>\n",
       "      <td>5</td>\n",
       "    </tr>\n",
       "    <tr>\n",
       "      <th>top</th>\n",
       "      <td>Maruti Swift Dzire VDI</td>\n",
       "      <td>Diesel</td>\n",
       "      <td>Individual</td>\n",
       "      <td>Manual</td>\n",
       "      <td>First Owner</td>\n",
       "    </tr>\n",
       "    <tr>\n",
       "      <th>freq</th>\n",
       "      <td>91</td>\n",
       "      <td>3177</td>\n",
       "      <td>5223</td>\n",
       "      <td>5336</td>\n",
       "      <td>3603</td>\n",
       "    </tr>\n",
       "  </tbody>\n",
       "</table>\n",
       "</div>"
      ],
      "text/plain": [
       "                          name    fuel seller_type transmission        owner\n",
       "count                     5840    5840        5840         5840         5840\n",
       "unique                    1924       4           3            2            5\n",
       "top     Maruti Swift Dzire VDI  Diesel  Individual       Manual  First Owner\n",
       "freq                        91    3177        5223         5336         3603"
      ]
     },
     "metadata": {},
     "output_type": "display_data"
    },
    {
     "data": {
      "text/html": [
       "<div>\n",
       "<style scoped>\n",
       "    .dataframe tbody tr th:only-of-type {\n",
       "        vertical-align: middle;\n",
       "    }\n",
       "\n",
       "    .dataframe tbody tr th {\n",
       "        vertical-align: top;\n",
       "    }\n",
       "\n",
       "    .dataframe thead th {\n",
       "        text-align: right;\n",
       "    }\n",
       "</style>\n",
       "<table border=\"1\" class=\"dataframe\">\n",
       "  <thead>\n",
       "    <tr style=\"text-align: right;\">\n",
       "      <th></th>\n",
       "      <th>name</th>\n",
       "      <th>fuel</th>\n",
       "      <th>seller_type</th>\n",
       "      <th>transmission</th>\n",
       "      <th>owner</th>\n",
       "    </tr>\n",
       "  </thead>\n",
       "  <tbody>\n",
       "    <tr>\n",
       "      <th>count</th>\n",
       "      <td>1000</td>\n",
       "      <td>1000</td>\n",
       "      <td>1000</td>\n",
       "      <td>1000</td>\n",
       "      <td>1000</td>\n",
       "    </tr>\n",
       "    <tr>\n",
       "      <th>unique</th>\n",
       "      <td>621</td>\n",
       "      <td>4</td>\n",
       "      <td>3</td>\n",
       "      <td>2</td>\n",
       "      <td>5</td>\n",
       "    </tr>\n",
       "    <tr>\n",
       "      <th>top</th>\n",
       "      <td>Maruti Alto 800 LXI</td>\n",
       "      <td>Diesel</td>\n",
       "      <td>Individual</td>\n",
       "      <td>Manual</td>\n",
       "      <td>First Owner</td>\n",
       "    </tr>\n",
       "    <tr>\n",
       "      <th>freq</th>\n",
       "      <td>15</td>\n",
       "      <td>534</td>\n",
       "      <td>837</td>\n",
       "      <td>877</td>\n",
       "      <td>623</td>\n",
       "    </tr>\n",
       "  </tbody>\n",
       "</table>\n",
       "</div>"
      ],
      "text/plain": [
       "                       name    fuel seller_type transmission        owner\n",
       "count                  1000    1000        1000         1000         1000\n",
       "unique                  621       4           3            2            5\n",
       "top     Maruti Alto 800 LXI  Diesel  Individual       Manual  First Owner\n",
       "freq                     15     534         837          877          623"
      ]
     },
     "metadata": {},
     "output_type": "display_data"
    },
    {
     "name": "stdout",
     "output_type": "stream",
     "text": [
      "На прошлом шаге удалили столбец \"torque\", поэтому размер фрейма = (5840, 12)\n"
     ]
    }
   ],
   "source": [
    "display(round(df_train.describe(),3))\n",
    "display(round(df_test.describe(),3))\n",
    "display(df_train.describe(include = 'object'))\n",
    "display(df_test.describe(include = 'object')) \n",
    "print('На прошлом шаге удалили столбец \"torque\", поэтому размер фрейма =', df_train.shape) "
   ]
  },
  {
   "cell_type": "code",
   "execution_count": 19,
   "metadata": {
    "id": "vF0yfzMOkEn8"
   },
   "outputs": [],
   "source": [
    "#assert df_train.shape == (5840, 13)"
   ]
  },
  {
   "cell_type": "markdown",
   "metadata": {
    "id": "OmV784QWZOpO"
   },
   "source": [
    "## **Визуализации (1 балл + 0.5 бонус)**\n",
    "\n"
   ]
  },
  {
   "cell_type": "markdown",
   "metadata": {
    "id": "6p2L60ngZueT"
   },
   "source": [
    "Визуализация данных — важный шаг в работе. Визуализировать данные необходимо, например, чтобы:\n",
    "\n",
    "- Оценить распределения признаков самих по себе (это может натоклнуть вас на мысли о модели, которую можно использовать)\n",
    "- Сравнить распределения на `train` и `test` — чтобы проверить, насколько информация, на которой вы будете обучаться согласуется с той, на которой модель должна работать\n",
    "- Оценить есть ли явная связь признаков с целевой переменной\n",
    "\n",
    "**Важно:**\n",
    "\n",
    "Если распределения на `train` и `test` не совпадают, это не значит, что нужно перемешивать данные! Более корректно актуализировать задачу и уточнить, а не устарели ли данные `train`. Также полезным может быть собрать новую тестовую выборку, смешав те, что имеются сейчас.\n",
    "\n",
    "**Если вы будете подгонять распределения, то можете встретиться с переобучением!**"
   ]
  },
  {
   "cell_type": "markdown",
   "metadata": {
    "id": "bNjHoAt7nlOa"
   },
   "source": [
    "### **Задание 6 (0.5 балла)**\n",
    "\n",
    "Шаг 1.\n",
    "- [ ] Воспользуйтесь `pairplot` из библиотеки `seabron`, чтобы визуализировать попарные распределения числовых признаков для `train`\n",
    "- [ ] По полученному графику ответьте на вопросы:\n",
    " - Можно ли предположить на основе распределений связь признаков с целевой переменной?\n",
    " - Можно ли предположить на основе распределений выдвинуть гипотезу о корреляциях признаков?\n",
    "\n",
    "Шаг 2.\n",
    "\n",
    "- [ ] Постройте pairplot по тестовым данным\n",
    "- [ ] Ответьте на вопрос \"Похожими ли оказались совокупности при разделении на трейн и тест?\""
   ]
  },
  {
   "cell_type": "code",
   "execution_count": null,
   "metadata": {
    "id": "NK9l6SrAeHK1"
   },
   "outputs": [],
   "source": [
    "sns.pairplot(df_train)\n",
    "plt.show()"
   ]
  },
  {
   "cell_type": "code",
   "execution_count": null,
   "metadata": {},
   "outputs": [],
   "source": [
    "sns.pairplot(df_test)\n",
    "plt.show()"
   ]
  },
  {
   "cell_type": "markdown",
   "metadata": {
    "id": "9Nrf9A_Mohgz"
   },
   "source": [
    "##### Ответ\n",
    "###### Шаг 1.\n",
    "- Можно наблюдать явную связь целевой переменной и таких признаков как: год, мощность.\n",
    "- Визуально можно отметить пару объём двигателя/максимальная мощность, но это и логично! Удивляет распределение между парой год/пробег.\n",
    "\n",
    "###### Шаг 2.\n",
    "- Совокупности похожи, но тест гораздо более расеянный(разряженный)."
   ]
  },
  {
   "cell_type": "markdown",
   "metadata": {
    "id": "1G4nG3GWoniC"
   },
   "source": [
    "### **Задание 7 (0.5 балла)**\n",
    "\n",
    "И так, вы выдвинули гипотезы о наличии связи. Теперь давайте оценим эту связь в числах.\n",
    "\n",
    "**Задание:**\n",
    "- [ ] Получите значения коэффициента корреляции Пирсона для тренировочного набора данных при помощи `pd.corr()`\n",
    "- [ ] По полученным корреляциям постройте тепловую карту (`heatmap` из бибилотеки seaborn)"
   ]
  },
  {
   "cell_type": "code",
   "execution_count": null,
   "metadata": {
    "id": "E99LVAN2fMVH"
   },
   "outputs": [],
   "source": [
    "cor = df_train.corr()\n",
    "display(cor)"
   ]
  },
  {
   "cell_type": "code",
   "execution_count": null,
   "metadata": {},
   "outputs": [],
   "source": [
    "sns.heatmap(cor, cmap = 'Blues', annot= True)"
   ]
  },
  {
   "cell_type": "markdown",
   "metadata": {
    "id": "w24a_oXqf12H"
   },
   "source": [
    "- [ ] Ответьте на вопросы:\n",
    " - Какие 2 признака наименее скоррелированы между собой?\n",
    " - Между какими наблюдается довольно сильная положительная линейная зависимость?\n",
    " - Правильно ли, опираясь на данные, утверждать, что чем меньше год, тем, скорее всего, больше километров проехала машина к дате продажи?"
   ]
  },
  {
   "cell_type": "markdown",
   "metadata": {
    "id": "asliCDvapsEe"
   },
   "source": [
    "Ответы:\n",
    "- engine и year имеют наименьшую корреляцию в 0.0028\n",
    "- max_power и selling_price, а также max_power и engine\n",
    "- между признаками km_driven и year существует отрицательная корреляция, но не самая сильная."
   ]
  },
  {
   "cell_type": "markdown",
   "metadata": {
    "id": "ru1In410pieq"
   },
   "source": [
    "### **Бонус (0.5 балла)**\n",
    "\n",
    "Если вам кажется, что мы не попросили вас нарисовать какие-то очень важные зависимости, нарисуйте их **и поясните.**"
   ]
  },
  {
   "cell_type": "markdown",
   "metadata": {},
   "source": [
    "Также будет полезно посмотреть на карелляцию между категориальными признаками.\n",
    "\n",
    "Выведем её одним из изветсных способов и построим график."
   ]
  },
  {
   "cell_type": "code",
   "execution_count": null,
   "metadata": {},
   "outputs": [],
   "source": [
    "!pip install association_metrics"
   ]
  },
  {
   "cell_type": "code",
   "execution_count": null,
   "metadata": {
    "id": "HwlwJhDIp_2L"
   },
   "outputs": [],
   "source": [
    "import association_metrics as am\n",
    "\n",
    "df_cat = df_train.apply(lambda x: x.astype(\"category\") if x.dtype == \"object\" else x)\n",
    "\n",
    "cramersv = am.CramersV(df_cat)\n",
    "\n",
    "corr_cat = cramersv.fit()\n",
    "display(corr_cat)"
   ]
  },
  {
   "cell_type": "code",
   "execution_count": null,
   "metadata": {},
   "outputs": [],
   "source": [
    "sns.heatmap(corr_cat, cmap = 'Blues', annot= True)"
   ]
  },
  {
   "cell_type": "markdown",
   "metadata": {
    "id": "uS2CQ1LzrP_U"
   },
   "source": [
    "# **Часть 2 | Модель только на вещественных признаках**\n",
    "\n",
    "В этой части вам предстоит обучить модель только на вещественных признаках. Почему только на них?\n",
    "\n",
    "Чем больше признаковое пространство — чем сложнее модель. А чем модель проще — тем лучше для скорости работы и интерпретации признаков.\n",
    "\n",
    "За задания этой части вы можете набрать 1.25 балла;"
   ]
  },
  {
   "cell_type": "markdown",
   "metadata": {
    "id": "KrsL99SsqWIz"
   },
   "source": [
    "### **Задание 8 (0.05 балла)**\n",
    "\n",
    "Разбейте данные на тренировочный и тестовый наборы. Перед разбиением создайте копию датафрейма, который будет хранить только вещественные признаки и используйте его (то есть категориальные столбцы (все, кроме seats) необходимо удалить).\n",
    "\n",
    "В переменные y_train и y_test запишите значения целевых переменных."
   ]
  },
  {
   "cell_type": "code",
   "execution_count": null,
   "metadata": {},
   "outputs": [],
   "source": [
    "df_train.info()"
   ]
  },
  {
   "cell_type": "code",
   "execution_count": null,
   "metadata": {},
   "outputs": [],
   "source": [
    "df_train_copy = df_train.copy()\n",
    "df_test_copy = df_test.copy()"
   ]
  },
  {
   "cell_type": "code",
   "execution_count": null,
   "metadata": {
    "id": "cGxjJSSUg2na"
   },
   "outputs": [],
   "source": [
    "y_train = df_train['selling_price']\n",
    "X_train = df_train.select_dtypes(exclude=['object']).drop('selling_price', axis = 1)"
   ]
  },
  {
   "cell_type": "code",
   "execution_count": null,
   "metadata": {
    "id": "fyMyARKem5wl"
   },
   "outputs": [],
   "source": [
    "assert X_train.shape == (5840, 6)"
   ]
  },
  {
   "cell_type": "code",
   "execution_count": null,
   "metadata": {
    "id": "xKRmqiJ5rbSx"
   },
   "outputs": [],
   "source": [
    "y_test = df_test['selling_price']\n",
    "X_test = df_test.select_dtypes(exclude=['object']).drop('selling_price', axis = 1)"
   ]
  },
  {
   "cell_type": "code",
   "execution_count": null,
   "metadata": {
    "id": "-JepTZ36y-h-"
   },
   "outputs": [],
   "source": [
    "assert X_test.shape == (1000, 6)"
   ]
  },
  {
   "cell_type": "markdown",
   "metadata": {
    "id": "U5b4TfLtq-FC"
   },
   "source": [
    "### **Задание 9 (0.2 балла)**\n",
    "\n",
    "Построим нашу первую модель!\n",
    "- [ ] Обучите классическую линейную регрессию с дефолтными параметрами. Посчтитайте $R^2$ и $MSE$ для трейна и для теста.\n",
    "- [ ] Сделайте выводы по значениям метрик качества.\n",
    "\n",
    "**Примечание:**\n",
    "\n",
    "Здесь и далее $R^2$ и $MSE$ для трейна и для теста выводите везде, где требуется обучать модели, даже если в явном виде этого не просят. Иначе непонятно, как понять, насколько успешны наши эксперименты."
   ]
  },
  {
   "cell_type": "code",
   "execution_count": null,
   "metadata": {
    "id": "hVYXaeTgrb3d"
   },
   "outputs": [],
   "source": [
    "from sklearn.linear_model import LinearRegression\n",
    "from sklearn.metrics import r2_score, mean_squared_error as MSE\n",
    "\n",
    "model_1 = LinearRegression()\n",
    "model_1.fit(X_train, y_train)\n",
    "predictions_train_1 = model_1.predict(X_train)\n",
    "predictions_test_1 = model_1.predict(X_test)\n",
    "\n",
    "value_r2_train_1 = r2_score(y_train, predictions_train_1)\n",
    "value_r2_test_1 = r2_score(y_test, predictions_test_1)\n",
    "\n",
    "value_mse_train_1 = MSE(y_train, predictions_train_1)\n",
    "value_mse_test_1 = MSE(y_test, predictions_test_1)\n",
    "print(f\"MSE модели линейной регрессии на тренировочной выборке: {round(value_mse_train_1,3)}; R2 модели линейной регрессии на тренировочной выборке: {round(value_r2_train_1,3)}\")\n",
    "print(f\"MSE модели линейной регрессии на тестовой выборке: {round(value_mse_test_1,3)}; R2 модели линейной регрессии на тестовой выборке: {round(value_r2_test_1,3)}\")"
   ]
  },
  {
   "cell_type": "markdown",
   "metadata": {},
   "source": [
    "По MSE судить сложно, метрику сложно интерпетировать. Но видно что результат на тренировочных данных в 2 раза лучше, чем на тестовых.\n",
    "\n",
    "При этом по метрике R2 результат идентичный - 0.59. Неплохое значение метрики, но можно улучишь, желательно побить порог в 0.8"
   ]
  },
  {
   "cell_type": "markdown",
   "metadata": {
    "id": "HpQ8EG2Uk_Dn"
   },
   "source": [
    "### **Задание 10 (0.15 балла)**\n",
    "\n",
    "Всегда есть место совершенству. Поэтому давайте попробуем улучшить модель. При помощи стандартизации признаков.\n",
    "\n",
    "- [ ] Стандартизируйте значения в тренировочных и тестовых данных. Стандартизатор **обучайте только на `train`**."
   ]
  },
  {
   "cell_type": "code",
   "execution_count": null,
   "metadata": {},
   "outputs": [],
   "source": [
    "X_train.head(2)  # посмотрим на данные"
   ]
  },
  {
   "cell_type": "code",
   "execution_count": null,
   "metadata": {
    "id": "o6FB80C2rciK",
    "scrolled": true
   },
   "outputs": [],
   "source": [
    "from sklearn.preprocessing import StandardScaler\n",
    "num_feats = X_train.columns\n",
    "\n",
    "scaler = StandardScaler() # создадим объект\n",
    "scaler.fit(X_train[num_feats]) # обучим объект\n",
    "X_train[num_feats] = scaler.transform(X_train[num_feats]) # произведём масштабирование\n",
    "X_test[num_feats] = scaler.transform(X_test[num_feats]) # произведём масштабирование\n",
    "\n",
    "display(X_train.head(2)) # посмотрим на результат\n",
    "display(X_test.head(2)) # посмотрим на результат"
   ]
  },
  {
   "cell_type": "markdown",
   "metadata": {
    "id": "oQZi8LYVmiPv"
   },
   "source": [
    "### **Задание 11 (0.1 балла)**\n",
    "\n",
    "Хотя стандартизация не помогла сильно прибавить в качестве она открыла возможность интерпретировать важность признаков в модели. Правило интерпретации такое:\n",
    "\n",
    "Чем больше коэффициент $\\beta_i$ по модулю, тем важнее признак.\n",
    "\n",
    "**Ответьте на вопрос:**\n",
    "\n",
    "- [ ] Какой признак оказался наиболее информативным в предсказании цены?"
   ]
  },
  {
   "cell_type": "markdown",
   "metadata": {},
   "source": [
    "Учитывая контекст вопроса, видимо нf предидущем шаге нужно было обучить модель заного.\n",
    "Хотя это не требовалось явно..\n",
    "Сделаем этого!"
   ]
  },
  {
   "cell_type": "code",
   "execution_count": null,
   "metadata": {},
   "outputs": [],
   "source": [
    "model_2 = LinearRegression()\n",
    "model_2.fit(X_train, y_train)\n",
    "predictions_train_2 = model_2.predict(X_train)\n",
    "predictions_test_2 = model_2.predict(X_test)\n",
    "\n",
    "value_r2_train_2 = r2_score(y_train, predictions_train_2)\n",
    "value_r2_test_2 = r2_score(y_test, predictions_test_2)\n",
    "\n",
    "value_mse_train_2 = MSE(y_train, predictions_train_2)\n",
    "value_mse_test_2 = MSE(y_test, predictions_test_2)\n",
    "print(f\"MSE модели линейной регрессии на тренировочной выборке: {round(value_mse_train_2,3)}; R2 модели линейной регрессии на тренировочной выборке: {round(value_r2_train_2,3)}\")\n",
    "print(f\"MSE модели линейной регрессии на тестовой выборке: {round(value_mse_test_2,3)}; R2 модели линейной регрессии на тестовой выборке: {round(value_r2_test_2,3)}\")"
   ]
  },
  {
   "cell_type": "code",
   "execution_count": null,
   "metadata": {
    "id": "u9onBNrhmt1r",
    "scrolled": true
   },
   "outputs": [],
   "source": [
    "print(model_2.coef_)"
   ]
  },
  {
   "cell_type": "markdown",
   "metadata": {},
   "source": [
    "Признак max_power имеет наибольший коэффициент."
   ]
  },
  {
   "cell_type": "markdown",
   "metadata": {
    "id": "5BR3XLXUsm1q"
   },
   "source": [
    "### **Задание 12 (0.25 балла)**\n",
    "\n",
    "Попробуем улучшить нашу модель с помощью применения регуляризации. Для этого воспльзуемся `Lasso` регрессией.  Кроме того, попробуйте использовать её теоретическое свойство отбора признаков, за счет зануления незначимых коэффициентов.\n",
    "\n",
    "**Задание:**\n",
    "\n",
    "- [ ] Обучите Lasso регрессию на тренировочном наборе данных с нормализованными признаками. Оцените её качество\n",
    "- [ ] Проверьте, занулила ли L1-регуляризация с параметрами по умолчанию какие-нибудь веса? Предположите почему."
   ]
  },
  {
   "cell_type": "code",
   "execution_count": null,
   "metadata": {
    "id": "yhR5eajPn0kl"
   },
   "outputs": [],
   "source": [
    "from sklearn.linear_model import Lasso\n",
    "\n",
    "model_3 = Lasso()\n",
    "model_3.fit(X_train, y_train)\n",
    "predictions_train_3 = model_3.predict(X_train)\n",
    "predictions_test_3 = model_3.predict(X_test)\n",
    "\n",
    "value_r2_train_3 = r2_score(y_train, predictions_train_3)\n",
    "value_r2_test_3 = r2_score(y_test, predictions_test_3)\n",
    "\n",
    "value_mse_train_3 = MSE(y_train, predictions_train_3)\n",
    "value_mse_test_3 = MSE(y_test, predictions_test_3)\n",
    "print(f\"MSE модели Lasso на тренировочной выборке: {round(value_mse_train_3,3)}; R2 модели линейной регрессии на тренировочной выборке: {round(value_r2_train_3,3)}\")\n",
    "print(f\"MSE модели Lasso на тестовой выборке: {round(value_mse_test_3,3)}; R2 модели линейной регрессии на тестовой выборке: {round(value_r2_test_3,3)}\")"
   ]
  },
  {
   "cell_type": "code",
   "execution_count": null,
   "metadata": {},
   "outputs": [],
   "source": [
    "print(model_3.coef_)"
   ]
  },
  {
   "cell_type": "markdown",
   "metadata": {
    "id": "EBJKIp6FouYw"
   },
   "source": [
    "Результаты по метрикам незначительно ухудшились.\n",
    "Коэффициенты модели именились незначительно, зануления не произошло. Думаю из-за дефолтных настроек."
   ]
  },
  {
   "cell_type": "markdown",
   "metadata": {
    "id": "YYWLInilqQTE"
   },
   "source": [
    "### **Задание 13 Финальный рывок (0.5 балла)**\n",
    "\n",
    "До этого мы с вами использовали `train` для обучения и `test` для прогнозирования. Но у нас есть ещё одна задача — подобрать оптимальные параметры модели. Для этого используем кросс-валидацию, описанную на семинарах.\n",
    "\n",
    "Кроме того, выжмем максимум из модификаций регрессии. Построим `ElasticNet`. И сделаем всё по порядку.\n",
    "\n",
    "**Ваша задача 1:**\n",
    "\n",
    "- [ ] Перебором по сетке (c 10-ю фолдами) подберите оптимальные параметры для Lasso-регрессии. Вам пригодится класс [GridSearchCV](https://scikit-learn.org/stable/modules/generated/sklearn.model_selection.GridSearchCV.html).\n",
    "- [ ] Ответьте на вопросы:\n",
    " - Сколько грид-сёрчу пришлось обучать моделей?\n",
    " - Какой коэффициент регуляризации у лучшей из перебранных моделей? Занулились ли какие-нибудь из весов при такой регуляризации?"
   ]
  },
  {
   "cell_type": "code",
   "execution_count": null,
   "metadata": {
    "id": "mdGQ6CvApr_P"
   },
   "outputs": [],
   "source": [
    "from sklearn.model_selection import GridSearchCV\n",
    "X_train = pd.concat([X_train, X_test], ignore_index=True)\n",
    "y_train = pd.concat([y_train, y_test], ignore_index=True)"
   ]
  },
  {
   "cell_type": "code",
   "execution_count": null,
   "metadata": {},
   "outputs": [],
   "source": [
    "%%time\n",
    "lasso = Lasso()\n",
    "parameters = {'alpha':[1e-3,0.05,0.1,0.2,0.5,1,100,1000,5000,10000, 20000]}\n",
    "lasso_regressor = GridSearchCV(lasso, param_grid=parameters, cv=10, scoring = 'r2')\n",
    "lasso_regressor.fit(X_train, y_train)\n",
    "print(f'Лучшие гиперпараметры модели Lasso:{lasso_regressor.best_params_} при значении метрики {lasso_regressor.best_score_}')\n",
    "res = pd.DataFrame(lasso_regressor.cv_results_)\n",
    "display(res)"
   ]
  },
  {
   "cell_type": "markdown",
   "metadata": {
    "id": "05579aJCuY2A"
   },
   "source": [
    "**Ваша задача 2:**\n",
    "\n",
    "- [ ] Перебором по сетке (c 10-ю фолдами) подберите оптимальные параметры для [ElasticNet](https://scikit-learn.org/stable/modules/generated/sklearn.linear_model.ElasticNet.html) регрессии.\n",
    "- [ ] Ответьте на вопрос:\n",
    " - Сколько грид-сёрчу пришлось обучать моделей?\n",
    " - Какие гиперпараметры соответствуют лучшей (по выбранной метрике качества) из перебранных моделей?"
   ]
  },
  {
   "cell_type": "code",
   "execution_count": null,
   "metadata": {},
   "outputs": [],
   "source": [
    "from sklearn.linear_model import ElasticNet"
   ]
  },
  {
   "cell_type": "code",
   "execution_count": null,
   "metadata": {
    "id": "F3e5MGZMoeCR"
   },
   "outputs": [],
   "source": [
    "%%time\n",
    "elastic = ElasticNet()\n",
    "\n",
    "parameters = {'alpha': [0.00005,0.0005,0.001, 0.01, 0.05, 0.06, 0.08, 1, 2, 3, 5, 8, 10, 20, 50, 100],\n",
    "                'l1_ratio': [0.1,0.2,0.3,0.4,0.5,0.6,0.7,0.8,1]}\n",
    "                \n",
    "elastic_regressor = GridSearchCV(elastic, param_grid=parameters, cv=10, scoring = 'r2')\n",
    "elastic_regressor.fit(X_train, y_train)\n",
    "print(f'Лучшие гиперпараметры модели ElasticNet:{elastic_regressor.best_params_} при значении метрики {elastic_regressor.best_score_}')\n",
    "res_el = pd.DataFrame(elastic_regressor.cv_results_)\n",
    "display(res_el)"
   ]
  },
  {
   "cell_type": "markdown",
   "metadata": {
    "id": "Y2y-_PCHrevF"
   },
   "source": [
    "# **Часть 3| Добавляем категориальные фичи**\n",
    "\n",
    "Попробуем для улучшения модели дать ей больше признаков. Добавим категориальные фичи.\n",
    "\n",
    "За эту часть можно набрать 0.75 основных балла и 0.25 бонусных.\n"
   ]
  },
  {
   "cell_type": "markdown",
   "metadata": {
    "id": "frLASc5L8Tu5"
   },
   "source": [
    "### **Задание 14 (0.1 балла)** Проанализируйте столбец `name`. Очевидно, что эта переменная является категориальной, однако категорий в ней много.\n",
    "\n",
    "В этом домашнем задании мы предлагаем удалить его.\n",
    "\n",
    "**Ваша задача:**\n",
    "- [ ] Удалить столбец`name`"
   ]
  },
  {
   "cell_type": "code",
   "execution_count": null,
   "metadata": {
    "id": "jsXiFjaFrng-"
   },
   "outputs": [],
   "source": [
    "df_train = df_train_copy\n",
    "df_test = df_test_copy"
   ]
  },
  {
   "cell_type": "code",
   "execution_count": null,
   "metadata": {},
   "outputs": [],
   "source": [
    "df_train = pd.concat([df_train, df_test], ignore_index=True) \n",
    "print('Объединим выборки, так как далее будет ипользовать кросс-валидацию для модели Ridge')"
   ]
  },
  {
   "cell_type": "code",
   "execution_count": null,
   "metadata": {
    "scrolled": true
   },
   "outputs": [],
   "source": [
    "print(df_train['name'].unique())\n",
    "print(len(df_train['name'].unique()))"
   ]
  },
  {
   "cell_type": "markdown",
   "metadata": {},
   "source": [
    "Очень много уникальных наименований, модель была бы слишком сложной.\n",
    "Но мы попробуем обработать стобец \"name\""
   ]
  },
  {
   "cell_type": "markdown",
   "metadata": {
    "id": "1hF3g5g7vodJ"
   },
   "source": [
    "В другом случае, конечно, мы могли бы предобработать данный столбец. В качестве бонуса предлагаем вам придумать и реализовать алгоритм предобработки.\n",
    "\n",
    "### **Бонус 0.5 балла**\n",
    "- [ ] Предобработайте столбец `name`, чтобы избежать его удаления"
   ]
  },
  {
   "cell_type": "code",
   "execution_count": null,
   "metadata": {},
   "outputs": [],
   "source": [
    "def partition_name(row, part):\n",
    "    row = row.strip()\n",
    "    result = list(row.split(' '))\n",
    "    if result and part == 1:\n",
    "        return result[0]\n",
    "    if len(result) > 1 and part == 2:\n",
    "        return result[0] + ' ' +  result[1]    \n",
    "    return None"
   ]
  },
  {
   "cell_type": "code",
   "execution_count": null,
   "metadata": {},
   "outputs": [],
   "source": [
    "df_train['name_1'] = df_train[~df_train['name'].isna()]['name'].apply(partition_name, part = 1)\n",
    "df_train['name_2'] = df_train[~df_train['name'].isna()]['name'].apply(partition_name, part = 2)\n",
    "print(df_train['name_1'].unique())\n",
    "print(len(df_train['name_1'].unique()))\n",
    "print(df_train['name_2'].unique())\n",
    "print(len(df_train['name_2'].unique()))"
   ]
  },
  {
   "cell_type": "code",
   "execution_count": null,
   "metadata": {},
   "outputs": [],
   "source": [
    "df_train['name'] = df_train['name_1']\n",
    "df_train = df_train.drop(['name_1','name_2'], axis = 1)"
   ]
  },
  {
   "cell_type": "code",
   "execution_count": null,
   "metadata": {},
   "outputs": [],
   "source": [
    "X_train_cat = df_train.drop('selling_price', axis = 1)\n",
    "y_train_ohe = df_train['selling_price']"
   ]
  },
  {
   "cell_type": "code",
   "execution_count": null,
   "metadata": {
    "id": "SqDhrd6Q8k-S"
   },
   "outputs": [],
   "source": [
    "#assert X_train_cat.shape == (5840, 10)"
   ]
  },
  {
   "cell_type": "code",
   "execution_count": null,
   "metadata": {
    "id": "JyGl7KQQx_Ax",
    "scrolled": true
   },
   "outputs": [],
   "source": [
    "X_train_cat.describe(include='object')"
   ]
  },
  {
   "cell_type": "markdown",
   "metadata": {
    "id": "wrGfeTnjv9Vx"
   },
   "source": [
    "### **Задание 15 (0.4 балла)**\n",
    "\n",
    "- [ ] Закодируйте категориалльные фичи и ``seats`` методом OneHot-кодирования. Обратите внимание, что во избежание мультиколлинеарности следует избавиться от одного из полученных столбцов при кодировании каждого признака методом OneHot."
   ]
  },
  {
   "cell_type": "code",
   "execution_count": null,
   "metadata": {},
   "outputs": [],
   "source": [
    "cat_cols = X_train_cat.select_dtypes(include=['object']).columns.to_list()\n",
    "cat_cols.append('seats')\n",
    "print(cat_cols)"
   ]
  },
  {
   "cell_type": "code",
   "execution_count": null,
   "metadata": {},
   "outputs": [],
   "source": [
    "for cat_col in cat_cols:\n",
    "    try:\n",
    "        X_train_cat[cat_col] = X_train_cat[cat_col].astype('category') # изменим на category\n",
    "    except:\n",
    "        print(f'Проверьте значения в столбце {cat_col}')"
   ]
  },
  {
   "cell_type": "code",
   "execution_count": null,
   "metadata": {},
   "outputs": [],
   "source": [
    "display(X_train_cat)"
   ]
  },
  {
   "cell_type": "code",
   "execution_count": null,
   "metadata": {},
   "outputs": [],
   "source": [
    "from sklearn.preprocessing import OneHotEncoder # или можно использовать get_dummies из библиотеки pandas"
   ]
  },
  {
   "cell_type": "code",
   "execution_count": null,
   "metadata": {
    "scrolled": false
   },
   "outputs": [],
   "source": [
    "ohe = OneHotEncoder(sparse=False, drop='first', handle_unknown='ignore')\n",
    "ohe.fit(X_train_cat[cat_cols])"
   ]
  },
  {
   "cell_type": "code",
   "execution_count": null,
   "metadata": {},
   "outputs": [],
   "source": [
    "X_train_ohe = X_train_cat.drop(columns=cat_cols).copy()\n",
    "X_train_ohe[ohe.get_feature_names_out()] = ohe.transform(X_train_cat[cat_cols])"
   ]
  },
  {
   "cell_type": "code",
   "execution_count": null,
   "metadata": {},
   "outputs": [],
   "source": [
    "display(X_train_ohe.head(2))"
   ]
  },
  {
   "cell_type": "markdown",
   "metadata": {
    "id": "rCrVls8SwJJX"
   },
   "source": []
  },
  {
   "cell_type": "markdown",
   "metadata": {
    "id": "b8fI5dQT-Fvx"
   },
   "source": [
    "### **Задание 16 (0.25 балла)**\n",
    "Повторим то, что делали на прошлом шаге для моделей на вещественных признаках, однако теперь с моделью `Ridge`.\n",
    "\n",
    "\n",
    "**Ваша задача:**\n",
    "- [ ] Переберите параметр регуляризации `alpha` для гребневой (ridge) регрессии с помощью класса `GridSearchCV` В качестве параметров при объявлении GridSearchCV кроме модели укажите метрику качества $R^2$. Кроссвалидируйтесь по 10-ти фолдам.\n",
    "- [ ] Ответье на вопрос: Удалось ли улучшить качество прогнозов?"
   ]
  },
  {
   "cell_type": "code",
   "execution_count": null,
   "metadata": {},
   "outputs": [],
   "source": [
    "from sklearn.linear_model import Ridge\n",
    "from sklearn.model_selection import GridSearchCV"
   ]
  },
  {
   "cell_type": "code",
   "execution_count": null,
   "metadata": {
    "id": "SLXCtme53Oup",
    "scrolled": false
   },
   "outputs": [],
   "source": [
    "%%time\n",
    "ridge = Ridge()\n",
    "parameters = {'alpha':[0.1, 0.2, 0.5, 1, 2, 10, 100]}\n",
    "ridge_regressor = GridSearchCV(ridge, param_grid=parameters, cv=10, scoring = 'r2')\n",
    "ridge_regressor.fit(X_train_ohe, y_train_ohe)\n",
    "print(f'Лучшие гиперпараметры модели Ridge:{ridge_regressor.best_params_} при значении метрики {ridge_regressor.best_score_}')\n",
    "res = pd.DataFrame(ridge_regressor.cv_results_)\n",
    "display(res)"
   ]
  },
  {
   "cell_type": "markdown",
   "metadata": {},
   "source": [
    "##### Ответ\n",
    "Удалось улучшить качество прогнозов!\n",
    "\n",
    "Значение метрики r2 первысило 0.7 -- хороший результат."
   ]
  },
  {
   "cell_type": "markdown",
   "metadata": {
    "id": "mw6LOYJTL2x1"
   },
   "source": [
    "# **Часть 4. | Бизнесовая (0.5 балла)**\n",
    "\n",
    "### **Задание 17 (0.5 балла)**\n",
    "\n",
    "В мире бизнеса очень важно давать оценку качества модели понятную бизнесу, поэтому иногда заказчики приходят с кастомными метриками. Попробуем сделать такую для нашей задачи.\n",
    "\n",
    "**Описание метрики:**\n",
    "\n",
    "Среди всех предсказанных цен на авто нужно посчитать долю прогнозов, отличающихся от реальных цен на эти авто не более чем на 10% (в одну или другую сторону)\n",
    "\n",
    "**Ваша задача:**\n",
    "\n",
    "- [ ] Реализуйте метрику `business_metric`\n",
    "- [ ] Посчитайте метрику для всех обученных моделей и определеите, какаю лучше всего решает задачу бизнеса"
   ]
  },
  {
   "cell_type": "code",
   "execution_count": null,
   "metadata": {},
   "outputs": [],
   "source": [
    "y_train = df_train_copy['selling_price']"
   ]
  },
  {
   "cell_type": "code",
   "execution_count": null,
   "metadata": {},
   "outputs": [],
   "source": [
    "def business_metric(y_true, y_pred):\n",
    "    err = np.abs(y_true - y_pred)/ y_true\n",
    "    ans = err <= 0.1\n",
    "    result = np.sum(ans)/ len(ans)\n",
    "    return result"
   ]
  },
  {
   "cell_type": "code",
   "execution_count": null,
   "metadata": {
    "scrolled": true
   },
   "outputs": [],
   "source": [
    "business_metric_1 = business_metric(y_train, predictions_train_1)\n",
    "print(f\"business_metric модели линейной регрессии на тренировочной выборке: {round(business_metric_1,3)};\")\n",
    "business_metric_2 = business_metric(y_train, predictions_train_2)\n",
    "print(f\"business_metric модели линейной регрессии на тренировочной выборке: {round(business_metric_2,3)};\")\n",
    "business_metric_3 = business_metric(y_train, predictions_train_3)\n",
    "print(f\"business_metric модели Lasso на тренировочной выборке: {round(business_metric_3,3)};\")"
   ]
  },
  {
   "cell_type": "markdown",
   "metadata": {},
   "source": [
    "И попробуем Ridge c категориальными признаками. И гиперпараметрами, которые подобрали с помощью GridSearchCV."
   ]
  },
  {
   "cell_type": "code",
   "execution_count": null,
   "metadata": {},
   "outputs": [],
   "source": [
    "model_4 = Ridge(alpha = 1)\n",
    "model_4.fit(X_train_ohe, y_train_ohe)\n",
    "predictions_train_4 = model_4.predict(X_train_ohe)\n",
    "\n",
    "business_metric_4 = business_metric(y_train_ohe, predictions_train_4)\n",
    "print(f\"business_metric модели Ridge на тренировочной выборке: {round(business_metric_4,3)};\")"
   ]
  },
  {
   "cell_type": "markdown",
   "metadata": {
    "id": "TZk-Tfr7xLsm"
   },
   "source": [
    "Ridge лучше решает задачу бизнеса."
   ]
  },
  {
   "cell_type": "markdown",
   "metadata": {
    "id": "ARi0hYPrsI4x"
   },
   "source": [
    "# **Часть 5 (3 балла) | Реализация сервиса на FastAPI**\n",
    "\n",
    "### **Задание 18 (3 балла)**\n"
   ]
  },
  {
   "cell_type": "markdown",
   "metadata": {
    "id": "03rHiCmGKGU8"
   },
   "source": [
    "Cделайте с помощью FastAPI сервис, который с точки зрения пользователя реализует две функции:\n",
    "\n",
    "1. на вход в формате json подаются признаки одного объекта, на выходе сервис выдает предсказанную стоимость машины\n",
    "2. на вход подается csv-файл с признаками тестовых объектов, на выходе получаем файл с +1 столбцом - предсказаниями на этих объектах\n",
    "\n",
    "С точки зрения реализации это означает следующее:\n",
    "- средствами pydantic должен быть описан класс базового объекта\n",
    "- класс с коллецией объектов\n",
    "- метод post, который получает на вход один объект описанного класса\n",
    "- метод post, который получает на вход коллекцию объектов описанного класса\n",
    "\n",
    "Шаблон для сервисной части дан ниже. Код необходимо дополнить и оформить в виде отдельного .py-файла."
   ]
  },
  {
   "cell_type": "code",
   "execution_count": null,
   "metadata": {},
   "outputs": [],
   "source": [
    "import pickle\n",
    "filename = 'final_model.sav'\n",
    "pickle.dump(model_4, open(filename, 'wb'))"
   ]
  },
  {
   "cell_type": "code",
   "execution_count": null,
   "metadata": {},
   "outputs": [],
   "source": [
    "filename = 'ohe.sav'\n",
    "pickle.dump(ohe, open(filename, 'wb'))"
   ]
  },
  {
   "cell_type": "markdown",
   "metadata": {
    "id": "3U29qIjog18v"
   },
   "source": [
    "Протестируйте сервис на корректность работы и приложите скриншоты (см. ниже)."
   ]
  },
  {
   "cell_type": "markdown",
   "metadata": {
    "id": "V4fq_10xsaHg"
   },
   "source": [
    "# **Часть 6 (1 балл) | Оформление результатов**\n",
    "\n",
    "### **Задание 19 (1 балл)**\n"
   ]
  },
  {
   "cell_type": "markdown",
   "metadata": {
    "id": "nmwf-ZrEKZy6"
   },
   "source": [
    "**Результаты вашей работы** необходимо разместить в своем Гитхабе. Под результатами понимаем следующее:\n",
    "* ``.ipynb``-ноутбук со всеми проведёнными вами экспериментами (output'ы ячеек, разумеется, сохранить)\n",
    "* сохраненный дашборд в любом формате\n",
    "* ``.py``-файл с реализацией сервиса\n",
    "* ``.pickle``-файл с сохранёнными весами модели, коэффициентами скейлинга и прочими числовыми значениями, которые могут понадобиться для инференса\n",
    "* ``.md``-файл с выводами про проделанной вами работе:\n",
    "    * что было сделано\n",
    "    * с какими результатами\n",
    "    * что дало наибольший буст в качестве\n",
    "    * что сделать не вышло и почему (это нормально, даже хорошо😀)\n",
    "\n",
    "**За что могут быть сняты баллы в этом пункте:**\n",
    "* за отсутствие ``.pickle``-файла с весами использованной модели\n",
    "* за недостаточную аналитику в ``.md``-файле\n",
    "* за оформление и логику кода (в определённом смысле это тоже элемент оформления решения)\n",
    "\n",
    "**Как будет выглядет проверка всего домашнего задания?**\n",
    "1. Ассистент проходит по ссылке на (**открытый**) репозиторий из Энитаска\n",
    "2. Смотрит ``readme.md``:\n",
    "    * пожалуйста, приложите в него же скрины работы вашего сервиса -- собирать ваши проекты довольно времязатратно, но хочется убедиться, что всё работает\n",
    "    * можете в md-файл приложить ссылку на screencast с демонстрацией\n",
    "3. Просматривает ноутбук с DS-частью\n",
    "4. Заглядывает в код сервиса\n",
    "5. Хвалит"
   ]
  },
  {
   "cell_type": "markdown",
   "metadata": {
    "id": "QSIEzw6sN8Zp"
   },
   "source": [
    "# **Часть Благодарственная**"
   ]
  },
  {
   "cell_type": "markdown",
   "metadata": {
    "id": "lWOSqmLWOAr-"
   },
   "source": [
    "Надеемся, вы честно проделали все пункты, а не просто пролистали досюда. Потому что здесь награда за старания. Пожалуйста, не стоит награждать себя до того, как закончите работать над домашкой!\n",
    "\n",
    "<details>\n",
    "<summary><b>Что-то приятное</b></summary>\n",
    "\n",
    "**Напоминаем, что нашем курсе действует система кото-бонусов** 🐈\n",
    "\n",
    "На фото по ссылке — сэр кот кого-то из команды курса (преподаватель, помощник преподавателя, ассистенты).\n",
    "\n",
    "Предлагаем вам угадать — чей это товарищ!\n",
    "\n",
    "[Первый кот](https://ibb.co/XbnpCTg)\n",
    "\n",
    "</details>\n",
    "\n"
   ]
  }
 ],
 "metadata": {
  "colab": {
   "include_colab_link": true,
   "provenance": []
  },
  "kernelspec": {
   "display_name": "Python 3 (ipykernel)",
   "language": "python",
   "name": "python3"
  },
  "language_info": {
   "codemirror_mode": {
    "name": "ipython",
    "version": 3
   },
   "file_extension": ".py",
   "mimetype": "text/x-python",
   "name": "python",
   "nbconvert_exporter": "python",
   "pygments_lexer": "ipython3",
   "version": "3.9.7"
  }
 },
 "nbformat": 4,
 "nbformat_minor": 1
}
